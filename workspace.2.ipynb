{
 "cells": [
  {
   "attachments": {},
   "cell_type": "markdown",
   "metadata": {},
   "source": [
    "## Sampling & Storing Datasets"
   ]
  },
  {
   "cell_type": "code",
   "execution_count": 1,
   "metadata": {},
   "outputs": [
    {
     "name": "stdout",
     "output_type": "stream",
     "text": [
      "[['X.0.Adelman_Dmel_S2_H3K27ac_ChIP-seq_rep1and2.npy', 'y.0.Adelman_Dmel_S2_H3K27ac_ChIP-seq_rep1and2.npy'], ['X.1.Adelman_Dmel_S2_H3K4me1_ChIP-seq_rep1and2.npy', 'y.1.Adelman_Dmel_S2_H3K4me1_ChIP-seq_rep1and2.npy'], ['X.2.Adelman_Dmel_S2_H3K4me3_ChIP-seq_rep1and2.npy', 'y.2.Adelman_Dmel_S2_H3K4me3_ChIP-seq_rep1and2.npy'], ['X.3.Adelman_Dmel_S2_NELF-B_ChIP-seq_rep1and2.npy', 'y.3.Adelman_Dmel_S2_NELF-B_ChIP-seq_rep1and2.npy'], ['X.4.Adelman_Dmel_S2_RNAPolII_ChIP-seq_control_rep1and2_normalized.npy', 'y.4.Adelman_Dmel_S2_RNAPolII_ChIP-seq_control_rep1and2_normalized.npy'], ['X.5.GSE101365_idr-macs2-mock_ago2_mueller.npy', 'y.5.GSE101365_idr-macs2-mock_ago2_mueller.npy'], ['X.6.GSE101554_S2_Ez_ChIP_peaks.npy', 'y.6.GSE101554_S2_Ez_ChIP_peaks.npy'], ['X.7.GSE101554_S2_GAF_ChIP_peaks.npy', 'y.7.GSE101554_S2_GAF_ChIP_peaks.npy'], ['X.8.GSE101554_S2_HA_ChIP.npy', 'y.8.GSE101554_S2_HA_ChIP.npy'], ['X.9.GSE101554_S2_M1BP_ChIP_peaks.npy', 'y.9.GSE101554_S2_M1BP_ChIP_peaks.npy'], ['X.10.GSE101554_S2_Rpb3_ChIP_peaks.npy', 'y.10.GSE101554_S2_Rpb3_ChIP_peaks.npy'], ['X.11.GSE101554_S2_dRing_ChIP_peaks.npy', 'y.11.GSE101554_S2_dRing_ChIP_peaks.npy'], ['X.12.GSE37864_mle.npy', 'y.12.GSE37864_mle.npy'], ['X.13.GSE37864_mof.npy', 'y.13.GSE37864_mof.npy'], ['X.14.GSE37864_msl1.npy', 'y.14.GSE37864_msl1.npy'], ['X.15.GSE37864_msl2.npy', 'y.15.GSE37864_msl2.npy'], ['X.16.GSE37864_msl3.npy', 'y.16.GSE37864_msl3.npy'], ['X.17.GSE85191_Adelman_Dmel_S2_Cohesin_ChIP-seq_rep1and2.npy', 'y.17.GSE85191_Adelman_Dmel_S2_Cohesin_ChIP-seq_rep1and2.npy'], ['X.18.GSE99004_macs_1WTgA.npy', 'y.18.GSE99004_macs_1WTgA.npy'], ['X.19.GSE99004_macs_1dH1gA.npy', 'y.19.GSE99004_macs_1dH1gA.npy'], ['X.20.GSE99004_macs_2WTgA.npy', 'y.20.GSE99004_macs_2WTgA.npy'], ['X.21.GSE99004_macs_2dH1gA.npy', 'y.21.GSE99004_macs_2dH1gA.npy'], ['X.22.GSM1015406_CtSuHw_peaks.npy', 'y.22.GSM1015406_CtSuHw_peaks.npy'], ['X.23.GSM1015408_CtMod_peaks.npy', 'y.23.GSM1015408_CtMod_peaks.npy'], ['X.24.GSM1015410_Ct-CTCF_peaks.npy', 'y.24.GSM1015410_Ct-CTCF_peaks.npy'], ['X.25.GSM1318349_dTFIIIC220_1.npy', 'y.25.GSM1318349_dTFIIIC220_1.npy'], ['X.26.GSM1318350_dTFIIIC220_2.npy', 'y.26.GSM1318350_dTFIIIC220_2.npy'], ['X.27.GSM1318351_dTFIIIC220_3.npy', 'y.27.GSM1318351_dTFIIIC220_3.npy'], ['X.28.GSM1318353_Barren_int.npy', 'y.28.GSM1318353_Barren_int.npy'], ['X.29.GSM1318359_CP190.npy', 'y.29.GSM1318359_CP190.npy'], ['X.30.GSM1535963_BEAF_NT_Rep2.npy', 'y.30.GSM1535963_BEAF_NT_Rep2.npy'], ['X.31.GSM1535966_CapH2_NT_Rep1.npy', 'y.31.GSM1535966_CapH2_NT_Rep1.npy'], ['X.32.GSM1535967_CapH2_NT_Rep2.npy', 'y.32.GSM1535967_CapH2_NT_Rep2.npy'], ['X.33.GSM1535970_CBP_NT_Rep1.npy', 'y.33.GSM1535970_CBP_NT_Rep1.npy'], ['X.34.GSM1535971_CBP_NT_Rep2.npy', 'y.34.GSM1535971_CBP_NT_Rep2.npy'], ['X.35.GSM1535972_CBP_NT_Rep3.npy', 'y.35.GSM1535972_CBP_NT_Rep3.npy'], ['X.36.GSM1535975_Chromator_NT_Rep1.npy', 'y.36.GSM1535975_Chromator_NT_Rep1.npy'], ['X.37.GSM1535976_Chromator_NT_Rep2.npy', 'y.37.GSM1535976_Chromator_NT_Rep2.npy'], ['X.38.GSM1535980_CP190_NT_Rep2.npy', 'y.38.GSM1535980_CP190_NT_Rep2.npy'], ['X.39.GSM1535983_CTCF_NT_Rep2.npy', 'y.39.GSM1535983_CTCF_NT_Rep2.npy'], ['X.40.GSM1535985_DREF_NT_Rep2.npy', 'y.40.GSM1535985_DREF_NT_Rep2.npy'], ['X.41.GSM1535987_Fs1h-L_NT_Rep1.npy', 'y.41.GSM1535987_Fs1h-L_NT_Rep1.npy'], ['X.42.GSM1535988_Fs1h-L_NT_Rep2.npy', 'y.42.GSM1535988_Fs1h-L_NT_Rep2.npy'], ['X.43.GSM2133763_Kc_H3.npy', 'y.43.GSM2133763_Kc_H3.npy'], ['X.44.GSM2133764_Kc_H3K27me3.npy', 'y.44.GSM2133764_Kc_H3K27me3.npy'], ['X.45.GSM2133766_Kc_Ibf1.npy', 'y.45.GSM2133766_Kc_Ibf1.npy'], ['X.46.GSM2133767_Kc_Ibf2.npy', 'y.46.GSM2133767_Kc_Ibf2.npy'], ['X.47.GSM2133768_Kc_Pita.npy', 'y.47.GSM2133768_Kc_Pita.npy'], ['X.48.GSM2133769_Kc_ZIPIC.npy', 'y.48.GSM2133769_Kc_ZIPIC.npy'], ['X.49.GSM2133770_Kc_Nup98.npy', 'y.49.GSM2133770_Kc_Nup98.npy'], ['X.50.GSM2202471_Gcn5_GFP_peaks.npy', 'y.50.GSM2202471_Gcn5_GFP_peaks.npy'], ['X.51.GSM2202474_Gcn5_GFP_RNAi_macs14_peaks.npy', 'y.51.GSM2202474_Gcn5_GFP_RNAi_macs14_peaks.npy'], ['X.52.GSM2443786_Ash1-in-WT.npy', 'y.52.GSM2443786_Ash1-in-WT.npy'], ['X.53.GSM2443787_Ash1-in-WT.npy', 'y.53.GSM2443787_Ash1-in-WT.npy'], ['X.54.GSM2487547_H3K9me3.npy', 'y.54.GSM2487547_H3K9me3.npy'], ['X.55.GSM2487549_H4K20me1.npy', 'y.55.GSM2487549_H4K20me1.npy'], ['X.56.GSM2487550_H3_3.npy', 'y.56.GSM2487550_H3_3.npy'], ['X.57.GSM2487551_H2Bub.npy', 'y.57.GSM2487551_H2Bub.npy'], ['X.58.GSM2860389_GFPRNAi_ClampIP_R1_peaks.npy', 'y.58.GSM2860389_GFPRNAi_ClampIP_R1_peaks.npy'], ['X.59.GSM2860390_GFPRNAi_GAFIP_R1_peaks.npy', 'y.59.GSM2860390_GFPRNAi_GAFIP_R1_peaks.npy'], ['X.60.GSM2860393_GFPRNAi_ClampIP_R2_peaks.npy', 'y.60.GSM2860393_GFPRNAi_ClampIP_R2_peaks.npy'], ['X.61.GSM2860394_GFPRNAi_GAFIP_R2_peaks.npy', 'y.61.GSM2860394_GFPRNAi_GAFIP_R2_peaks.npy'], ['X.62.GSM2860398_GFPRNAi_GAFIP_R3_peaks.npy', 'y.62.GSM2860398_GFPRNAi_GAFIP_R3_peaks.npy'], ['X.63.GSM2860401_GFPRNAi_ClampIP_R4_peaks.npy', 'y.63.GSM2860401_GFPRNAi_ClampIP_R4_peaks.npy'], ['X.71.GSM892323_L3mbt.npy', 'y.71.GSM892323_L3mbt.npy'], ['X.72.GSM948712_e2-4hr_FAIRE_peaks.npy', 'y.72.GSM948712_e2-4hr_FAIRE_peaks.npy'], ['X.73.GSM948713_e6-8hr_FAIRE_peaks.npy', 'y.73.GSM948713_e6-8hr_FAIRE_peaks.npy'], ['X.74.GSM948714_e16-18hr_FAIRE_peaks.npy', 'y.74.GSM948714_e16-18hr_FAIRE_peaks.npy']]\n"
     ]
    }
   ],
   "source": [
    "# creating pairs of the datasets\n",
    "import os\n",
    "import numpy as np \n",
    "\n",
    "numpy_dir = '/Volumes/JOE_LOUIS/peaks.bedgraph/workspace/numpy_datasets/'\n",
    "\n",
    "ml_pairs = []\n",
    "\n",
    "for file_X in os.listdir(numpy_dir):\n",
    "    if file_X.startswith('X'):\n",
    "        file_name_X = file_X.split('.')[2]\n",
    "        for file_y in os.listdir(numpy_dir):\n",
    "            if file_y.startswith('y'):\n",
    "                file_name_y = file_y.split('.')[2]\n",
    "                if file_name_X == file_name_y:\n",
    "                    ml_pairs.append([file_X,file_y])\n",
    "\n",
    "print(ml_pairs)\n"
   ]
  },
  {
   "cell_type": "code",
   "execution_count": 2,
   "metadata": {},
   "outputs": [
    {
     "name": "stdout",
     "output_type": "stream",
     "text": [
      "Sampling Adelman_Dmel_S2_H3K27ac_ChIP-seq_rep1and2...\n",
      "Sampling Adelman_Dmel_S2_H3K4me1_ChIP-seq_rep1and2...\n",
      "Sampling Adelman_Dmel_S2_H3K4me3_ChIP-seq_rep1and2...\n",
      "Sampling Adelman_Dmel_S2_NELF-B_ChIP-seq_rep1and2...\n",
      "Sampling Adelman_Dmel_S2_RNAPolII_ChIP-seq_control_rep1and2_normalized...\n",
      "Sampling GSE101365_idr-macs2-mock_ago2_mueller...\n",
      "Sampling GSE101554_S2_Ez_ChIP_peaks...\n",
      "Sampling GSE101554_S2_GAF_ChIP_peaks...\n",
      "Sampling GSE101554_S2_HA_ChIP...\n",
      "Sampling GSE101554_S2_M1BP_ChIP_peaks...\n",
      "Sampling GSE101554_S2_Rpb3_ChIP_peaks...\n",
      "Sampling GSE101554_S2_dRing_ChIP_peaks...\n",
      "Sampling GSE37864_mle...\n",
      "Sampling GSE37864_mof...\n",
      "Sampling GSE37864_msl1...\n",
      "Sampling GSE37864_msl2...\n",
      "Sampling GSE37864_msl3...\n",
      "Sampling GSE85191_Adelman_Dmel_S2_Cohesin_ChIP-seq_rep1and2...\n",
      "Sampling GSE99004_macs_1WTgA...\n",
      "Sampling GSE99004_macs_1dH1gA...\n",
      "Sampling GSE99004_macs_2WTgA...\n",
      "Sampling GSE99004_macs_2dH1gA...\n",
      "Sampling GSM1015406_CtSuHw_peaks...\n",
      "Sampling GSM1015408_CtMod_peaks...\n",
      "Sampling GSM1015410_Ct-CTCF_peaks...\n",
      "Sampling GSM1318349_dTFIIIC220_1...\n",
      "Sampling GSM1318350_dTFIIIC220_2...\n",
      "Sampling GSM1318351_dTFIIIC220_3...\n",
      "Sampling GSM1318353_Barren_int...\n",
      "Sampling GSM1318359_CP190...\n",
      "Sampling GSM1535963_BEAF_NT_Rep2...\n",
      "Sampling GSM1535966_CapH2_NT_Rep1...\n",
      "Sampling GSM1535967_CapH2_NT_Rep2...\n",
      "Sampling GSM1535970_CBP_NT_Rep1...\n",
      "Sampling GSM1535971_CBP_NT_Rep2...\n",
      "Sampling GSM1535972_CBP_NT_Rep3...\n",
      "Sampling GSM1535975_Chromator_NT_Rep1...\n",
      "Sampling GSM1535976_Chromator_NT_Rep2...\n",
      "Sampling GSM1535980_CP190_NT_Rep2...\n",
      "Sampling GSM1535983_CTCF_NT_Rep2...\n",
      "Sampling GSM1535985_DREF_NT_Rep2...\n",
      "Sampling GSM1535987_Fs1h-L_NT_Rep1...\n",
      "Sampling GSM1535988_Fs1h-L_NT_Rep2...\n",
      "Sampling GSM2133763_Kc_H3...\n",
      "Sampling GSM2133764_Kc_H3K27me3...\n",
      "Sampling GSM2133766_Kc_Ibf1...\n",
      "Sampling GSM2133767_Kc_Ibf2...\n",
      "Sampling GSM2133768_Kc_Pita...\n",
      "Sampling GSM2133769_Kc_ZIPIC...\n",
      "Sampling GSM2133770_Kc_Nup98...\n",
      "Sampling GSM2202471_Gcn5_GFP_peaks...\n",
      "Sampling GSM2202474_Gcn5_GFP_RNAi_macs14_peaks...\n",
      "Sampling GSM2443786_Ash1-in-WT...\n",
      "Sampling GSM2443787_Ash1-in-WT...\n",
      "Sampling GSM2487547_H3K9me3...\n",
      "Sampling GSM2487549_H4K20me1...\n",
      "Sampling GSM2487550_H3_3...\n",
      "Sampling GSM2487551_H2Bub...\n",
      "Sampling GSM2860389_GFPRNAi_ClampIP_R1_peaks...\n",
      "Sampling GSM2860390_GFPRNAi_GAFIP_R1_peaks...\n",
      "Sampling GSM2860393_GFPRNAi_ClampIP_R2_peaks...\n",
      "Sampling GSM2860394_GFPRNAi_GAFIP_R2_peaks...\n",
      "Sampling GSM2860398_GFPRNAi_GAFIP_R3_peaks...\n",
      "Sampling GSM2860401_GFPRNAi_ClampIP_R4_peaks...\n",
      "Sampling GSM892323_L3mbt...\n",
      "Sampling GSM948712_e2-4hr_FAIRE_peaks...\n",
      "Sampling GSM948713_e6-8hr_FAIRE_peaks...\n",
      "Sampling GSM948714_e16-18hr_FAIRE_peaks...\n",
      "(13600, 1000)\n",
      "(13600,)\n"
     ]
    }
   ],
   "source": [
    "# sampling from ml pairs\n",
    "numpy_dir = '/Volumes/JOE_LOUIS/peaks.bedgraph/workspace/numpy_datasets/'\n",
    "\n",
    "# loading datasets\n",
    "X = np.load(numpy_dir + ml_pairs[0][0])\n",
    "y = np.load(numpy_dir + ml_pairs[0][1])\n",
    "print(f'Sampling {ml_pairs[0][0].split(\".\")[2]}...')\n",
    "\n",
    "# sample\n",
    "sampled_indices = np.random.choice(X.shape[0],size=200,replace=False)\n",
    "X_boot = X[sampled_indices,:]\n",
    "y_boot = y[sampled_indices]\n",
    "\n",
    "for pair in ml_pairs[1:]:\n",
    "\n",
    "    # loading datasets\n",
    "    X = np.load(numpy_dir + pair[0])\n",
    "    y = np.load(numpy_dir + pair[1])\n",
    "    print(f'Sampling {pair[0].split(\".\")[2]}...')\n",
    "\n",
    "    if X.shape[0] >= 200:\n",
    "        # sample\n",
    "        sampled_indices = np.random.choice(X.shape[0],size=200,replace=False)\n",
    "        sampled_seqs = X[sampled_indices,:]\n",
    "        sampled_labs = y[sampled_indices]\n",
    "\n",
    "        # concat to final feature matrix\n",
    "        X_boot = np.concatenate([X_boot,sampled_seqs],axis=0)\n",
    "        y_boot = np.concatenate([y_boot,sampled_labs],axis=0)\n",
    "    \n",
    "    else:\n",
    "        # concat to final feature matrix with all seqs\n",
    "        X_boot = np.concatenate([X_boot,sampled_seqs],axis=0)\n",
    "        y_boot = np.concatenate([y_boot,sampled_labs],axis=0)\n",
    "\n",
    "\n",
    "print(X_boot.shape)\n",
    "print(y_boot.shape)"
   ]
  },
  {
   "cell_type": "code",
   "execution_count": 3,
   "metadata": {},
   "outputs": [],
   "source": [
    "# saving the sampled dataset\n",
    "# np.save('X.boot.200.npy',X_boot)\n",
    "# np.save('y.boot.200.npy',y_boot)"
   ]
  },
  {
   "attachments": {},
   "cell_type": "markdown",
   "metadata": {},
   "source": [
    "## CNN: preprocessing & constructing model"
   ]
  },
  {
   "cell_type": "code",
   "execution_count": 1,
   "metadata": {},
   "outputs": [],
   "source": [
    "# loading sample datasets\n",
    "import numpy as np\n",
    "X_boot = np.load('X.boot.200.npy')\n",
    "y_boot = np.load('y.boot.200.npy')"
   ]
  },
  {
   "cell_type": "code",
   "execution_count": 5,
   "metadata": {},
   "outputs": [],
   "source": [
    "X_boot = X_boot.tolist()\n",
    "X_boot = [lst[1:-1] for lst in X_boot]\n",
    "\n",
    "# final = []\n",
    "# temp = []\n",
    "# for lst in X_boot:\n",
    "#     seq = ''.join(lst[1:-1])\n",
    "#     temp.extend([lst[0],seq])\n",
    "#     final.append(temp)\n",
    "#     temp = []"
   ]
  },
  {
   "cell_type": "code",
   "execution_count": 12,
   "metadata": {},
   "outputs": [
    {
     "data": {
      "text/plain": [
       "[['Adelman_Dmel_S2_H3K27ac_ChIP-seq_rep1and2',\n",
       "  'ACTCTTTTCTCACAAAAAAATATTTTTTTCTCTCTTTTTTTTTTGTGCGCTCTTTTTTTCTCGCGAGATATTTTATATATGTGGGGGGGAGAAAAGAGAGATATTTTTTTTTTGTGGGGAGAAAAGAGTGTGTGAGAAAATATTTTTTTGTGAGAGAGGGGAGAGAGAGACACTCTCTCTCTCTCGCGGGGAGAAAATATTTTATACACACAGAGAGAGAGCGCGCGAGAGAGAGATATTTTGTGCGCGCGTGTGTGGGGTGTGTGCGCCCCACATATATACACACAAAAAAAGAGTGTTTTATAAAACACTCTGTGGGGGGGAGATATCTCGCGGGGTGTATACACTCTTTTTTTTTTTTTGTGTGTGTGTGTGTGTGTATAAAAGAGAGAGAGAGATATGTGTGTGTGCGCGCGTGTTTTTTTCTCTCTTTTGTGAGATATGTGAGACACACAGAGAGATATGTGAGATATTTTTTTTTTTTTCTCGCGGGGTGTTTTGTGTGTATATATCTCGCGTGTTTTTTTTTTATATATTTTATAGAGGGGAGATATTTTATAGAGTGTATAAAATATTTTCTCGCGTGTTTTGTGTGTATAGAGTGTTTTGTGTGTTTTCTCTCTGTGGGGTGTATATATCTCCCCACATATTTTCTCACATATGTGAGATATNTNNNNNNNNNNNNNNNNNNNNNNNNNNNNNNNNNNNNNNNNNNNNNNNNNNNNNNNNNNNNNNNNNNNNNNNNNNNNNNNNNNNNNNNNNNNNNNNNNNNNNNNNNNNNNNNNNNNNNNNNNNNNNNNNNNNNNNNNNNNNNNNNNNNNNNNNNNNNNNNNNNNNNNNNNNNNNNNNNNNNNNNNNNNNNNNNNNNNNNNNNNNNNNNNNNNNNNNNNNNNNNNNNNNNNNNNNNNNNNNNNNNNNNNNNNNNNNNNNNNNNNNNNNNNNNNNNNNNNNNNNNNNNNNNNNNNNNNNNNNNNNNNNNNNNNNNNNNNNNNNNNNNNNNNNNNNNNNNNNNNNNNNNNNNNNNNNNNNNNNNNNNNNNNNNNNNNNNNNNNNNNNNNNNNNNNNNNNNNNNNNNNNNNNNNNNNNNNNNNNNNNNNNNNNNNNNNNNNNNNNNNNNNNNNNNNNNNNNNNNNNNNNNNNNNNNNNNNNNNNNNNNNNNNNNNNNNNNNNNNNNNNNNNNNNNNNNNNNNNNNNNNNNNNNNNNNNNNNNNNNNNNNNNNNNNNNNNNNNNNNNNNNNNNNNNNNNNNNNNNNNNNNNNNNNNNNNNNNNNNNNNNNNNNNNNNNNNNNNNNNNNNNNNNNNNNNNNNNNNNNNNNNNNNNNNNNNNNNNNNNNNNNNNNNNNNNNNNNNNNNNNNNNNNNNNNNNNNNNNNNNNNNNNNNNNNNNNNNNNNNNNNNNNNNNNNNNNNNNNNNNNNNNNNNNNNNNNNNNNNNNNNNNNNNNNNNNNNNNNNNNNNNNNNNNNNNNNNNNNNNNNNNNNNNNNNNNNNNNNNNNNNNNNNNNNNNNNNNNNNNNNNNNNNNNNNNNNNNNNNNNNNNNNNNNNNNNNNNNNNNNNNNNNNNNNNNNNNNNNNNNNNNNNNNNNNNNNNNNNNNNNNNNNNNNNNNNNNNNNNNNNNNNNNNNNNNNNNNNNNNNNNNNNNNNNNNNNNNNNNNNNNNNNNNNNNNNNNNNNNNNNNNNNNNNNNNNNNNNNNNNNNNNNNNNNNNNNNNNNNNNNNNNNNNNNNNNNNNNNNNNNNNNNNNNNNNNNNNNNNNNNNNNNNNNNNNNNNNNNNNNNNNNNNNNNNNNNNNNNNNNNNNNNNNNNNNNNNNNNNNNNNNNNNNNNNNNNNNNNNNNNNNNNNNNNNNNNNNNNNNNNNNNNNNNNNNNNNNNNNNNNNNNNNNNNNNNNNNNNNNNNNNNNNNNNNNNNNNNNNNNNNNNNNNNNNNNNNNNNNNNNNNNNNNNNNNNNNNNNNNNNNNNNNNNNNNNNNNNNNNNNNNNNNNNNNNNNNNNNNNNNNNNNNNNNNNNNNNNNNNNNNNNNNNNNNNNNNNNNNNNNNNNNNNNNNNNNNNNNNNNNNNNNNNNNNNNNNNNNNNNNNNNNNNNNNNNNNNNNNNNNNNNNNNNNNNNNNNNNNNNNNNNNNNNNNNNNNNNNNNNNNNNNNNNNNNNNNNNNNNNNNNNNNNNNNNNNNNNNNNNNNNNNNNNNNNNNNNNNNNNNNNNNNNNNNNNNNNNNNNNNNNNNNNNNNNNNNNNNNNNNNNNNNNNNNNNNNNNNNNNNNNNNNNNNNNNNNNNNNNNNNNNNNNNNNNNNNNNNNNNNNNNNNNNNNNNNNNNNNNNNNNNNNNNNNNNNNNNNNNNNNNNNNNNNNNNNNNNNNNNNNNNNNNNNNNNNNNNNNNNNNNNNNNNNNNNNNNNNNNNNNNNNNNNNNNNNNNNNNNNNNNNNNNNNNNNNNNNNNNNNNNNNNNNNNNNNNNNNNNNNNNNNNNNNNNNNNNNNNNNNNNNNNNNNNNNNNNNNNNNNNNNNNNNNNNNNNNNNNNNNNNNNNNNNNNNNNNNNNNNNNNNNNNNNNNNNNNNNNNNNNNNNNNNNNNNNNNNNNNNNNNNNNNNNNNNNNNNNNNNNNNNNNNNNNNNNNNNNNNNNNNNNNNNNNNNNNNNNNNNNNNNNNNNNNNNNNNNNNNNNNNNNNNNNNNNNNNNNNNNNNNNNNNNNNNNNNNNNNNNNNNNNNNNNNNNNNNNNNNNNNNNNNNNNNNNNNNNNNNNNNNNNNNNNNNNNNNNNNNNNNNNNNNNNNNNNNNNNNNNNNNNNNNNNNNNNNNNNNNNNNNNNNNNNNNNNNNNNNNNNNNNNNNNNNNNNNNNNNNNNNNNNNNNNNNNNNNNNNNNNNNNNNNNNNNNNNNNNNNNNNNNNNNNNNNNNNNNNNNNNNNNNNNNNNNNNNNNNNNNNNNNNNNNNNNNNNNNNNNNNNNNNNNNNNNNNNNNNNNNNNNNNNNNNNNNNNNNNNNNNNNNNNNNNNNNNNNNNNNN'],\n",
       " ['Adelman_Dmel_S2_H3K27ac_ChIP-seq_rep1and2',\n",
       "  'AAAAAGAGCGCACACACGCGCGCTCTTTTCTCCCCACAAAAGAGCGCACAGAGAGACACGCGGGGTGTCTCGCGCGCACACACACATATTTTCTCCCCGCGAGATATTTTGTGGGGCGCACAGAGCGCCCCGCGAGAGAGTGTGTGAGAGAGTGTGTGAGACACGCGAGAGAGTGTGTGAGAGAGAGATATTTTTTTATAAAAGAGCGCCCCACACACGCGAGATATTTTCTCGCGAGAGAGTGTCTCGCGAGAGAGTGTTTTGTGAGAGAGTGTCTCGCGAGAGAGTGTGTGAGACACGCGAGAGAGCGCGCGCGCACAGAGCGCACATATTTTTTTATAAAACACGCGCGCACAGAGTGTGTGTGTTTTTTTGTGGGGTGTGTGCGCCCCTCTGTGGGGGGGAGAGAGCGCACAGAGAGAGAGGGGCGCACATATCTCCCCACAAAAAAAAAACACACACACACACACCCCCCCTCTATACACGCGCGCTCTCTCTCTCTCTCTTTTCTCTCTTTTGTGGGGGGGTGTCTCCCCCCCACAGAGTGTTTTTTTTTTATAAAAGAGCGCCCCACATATCTCGCGGGGTGTGTGCGCNCNNNNNNNNNNNNNNNNNNNNNNNNNNNNNNNNNNNNNNNNNNNNNNNNNNNNNNNNNNNNNNNNNNNNNNNNNNNNNNNNNNNNNNNNNNNNNNNNNNNNNNNNNNNNNNNNNNNNNNNNNNNNNNNNNNNNNNNNNNNNNNNNNNNNNNNNNNNNNNNNNNNNNNNNNNNNNNNNNNNNNNNNNNNNNNNNNNNNNNNNNNNNNNNNNNNNNNNNNNNNNNNNNNNNNNNNNNNNNNNNNNNNNNNNNNNNNNNNNNNNNNNNNNNNNNNNNNNNNNNNNNNNNNNNNNNNNNNNNNNNNNNNNNNNNNNNNNNNNNNNNNNNNNNNNNNNNNNNNNNNNNNNNNNNNNNNNNNNNNNNNNNNNNNNNNNNNNNNNNNNNNNNNNNNNNNNNNNNNNNNNNNNNNNNNNNNNNNNNNNNNNNNNNNNNNNNNNNNNNNNNNNNNNNNNNNNNNNNNNNNNNNNNNNNNNNNNNNNNNNNNNNNNNNNNNNNNNNNNNNNNNNNNNNNNNNNNNNNNNNNNNNNNNNNNNNNNNNNNNNNNNNNNNNNNNNNNNNNNNNNNNNNNNNNNNNNNNNNNNNNNNNNNNNNNNNNNNNNNNNNNNNNNNNNNNNNNNNNNNNNNNNNNNNNNNNNNNNNNNNNNNNNNNNNNNNNNNNNNNNNNNNNNNNNNNNNNNNNNNNNNNNNNNNNNNNNNNNNNNNNNNNNNNNNNNNNNNNNNNNNNNNNNNNNNNNNNNNNNNNNNNNNNNNNNNNNNNNNNNNNNNNNNNNNNNNNNNNNNNNNNNNNNNNNNNNNNNNNNNNNNNNNNNNNNNNNNNNNNNNNNNNNNNNNNNNNNNNNNNNNNNNNNNNNNNNNNNNNNNNNNNNNNNNNNNNNNNNNNNNNNNNNNNNNNNNNNNNNNNNNNNNNNNNNNNNNNNNNNNNNNNNNNNNNNNNNNNNNNNNNNNNNNNNNNNNNNNNNNNNNNNNNNNNNNNNNNNNNNNNNNNNNNNNNNNNNNNNNNNNNNNNNNNNNNNNNNNNNNNNNNNNNNNNNNNNNNNNNNNNNNNNNNNNNNNNNNNNNNNNNNNNNNNNNNNNNNNNNNNNNNNNNNNNNNNNNNNNNNNNNNNNNNNNNNNNNNNNNNNNNNNNNNNNNNNNNNNNNNNNNNNNNNNNNNNNNNNNNNNNNNNNNNNNNNNNNNNNNNNNNNNNNNNNNNNNNNNNNNNNNNNNNNNNNNNNNNNNNNNNNNNNNNNNNNNNNNNNNNNNNNNNNNNNNNNNNNNNNNNNNNNNNNNNNNNNNNNNNNNNNNNNNNNNNNNNNNNNNNNNNNNNNNNNNNNNNNNNNNNNNNNNNNNNNNNNNNNNNNNNNNNNNNNNNNNNNNNNNNNNNNNNNNNNNNNNNNNNNNNNNNNNNNNNNNNNNNNNNNNNNNNNNNNNNNNNNNNNNNNNNNNNNNNNNNNNNNNNNNNNNNNNNNNNNNNNNNNNNNNNNNNNNNNNNNNNNNNNNNNNNNNNNNNNNNNNNNNNNNNNNNNNNNNNNNNNNNNNNNNNNNNNNNNNNNNNNNNNNNNNNNNNNNNNNNNNNNNNNNNNNNNNNNNNNNNNNNNNNNNNNNNNNNNNNNNNNNNNNNNNNNNNNNNNNNNNNNNNNNNNNNNNNNNNNNNNNNNNNNNNNNNNNNNNNNNNNNNNNNNNNNNNNNNNNNNNNNNNNNNNNNNNNNNNNNNNNNNNNNNNNNNNNNNNNNNNNNNNNNNNNNNNNNNNNNNNNNNNNNNNNNNNNNNNNNNNNNNNNNNNNNNNNNNNNNNNNNNNNNNNNNNNNNNNNNNNNNNNNNNNNNNNNNNNNNNNNNNNNNNNNNNNNNNNNNNNNNNNNNNNNNNNNNNNNNNNNNNNNNNNNNNNNNNNNNNNNNNNNNNNNNNNNNNNNNNNNNNNNNNNNNNNNNNNNNNNNNNNNNNNNNNNNNNNNNNNNNNNNNNNNNNNNNNNNNNNNNNNNNNNNNNNNNNNNNNNNNNNNNNNNNNNNNNNNNNNNNNNNNNNNNNNNNNNNNNNNNNNNNNNNNNNNNNNNNNNNNNNNNNNNNNNNNNNNNNNNNNNNNNNNNNNNNNNNNNNNNNNNNNNNNNNNNNNNNNNNNNNNNNNNNNNNNNNNNNNNNNNNNNNNNNNNNNNNNNNNNNNNNNNNNNNNNNNNNNNNNNNNNNNNNNNNNNNNNNNNNNNNNNNNNNNNNNNNNNNNNNNNNNNNNNNNNNNNNNNNNNNNNNNNNNNNNNNNNNNNNNNNNNNNNNNNNNNNNNNNNNNNNNNNNNNNNNNNNNNNNNNNNNNNNNNNNNNNNNNNNNNNNNNNNNNNNNNNNNNNNNNNNNNNNNNNNNNNNNNNNNNNNNNNNNNNNNNNNNNNNNNNNNNNNNNNNNNNNNNNNNNNNNNNNNNNNNNNNNNNNNNN']]"
      ]
     },
     "execution_count": 12,
     "metadata": {},
     "output_type": "execute_result"
    }
   ],
   "source": [
    "final[0:2]"
   ]
  },
  {
   "cell_type": "code",
   "execution_count": null,
   "metadata": {},
   "outputs": [],
   "source": [
    "import numpy as np\n",
    "\n",
    "# Define a function to one-hot encode a single DNA sequence\n",
    "def one_hot_encode(sequence, seq_id, bases):\n",
    "    encoding = np.zeros((len(sequence) + 1, len(bases)))\n",
    "    # Set the first row of the encoding to the one-hot encoding of the sequence ID\n",
    "    encoding[0, :] = one_hot_encode_sequence_id(seq_id, bases)\n",
    "    for i, base in enumerate(sequence):\n",
    "        if base in bases:\n",
    "            encoding[i + 1, bases.index(base)] = 1\n",
    "    return encoding\n",
    "\n",
    "# Define a function to one-hot encode a sequence ID\n",
    "def one_hot_encode_sequence_id(seq_id, bases):\n",
    "    encoding = np.zeros((len(bases)))\n",
    "    for i, base in enumerate(seq_id):\n",
    "        if base in bases:\n",
    "            encoding[bases.index(base)] = 1\n",
    "    return encoding\n",
    "\n",
    "# Define a function to one-hot encode a nested list of DNA sequences\n",
    "def nested_one_hot_encode(nested_sequences, bases):\n",
    "    encoded_sequences = []\n",
    "    for i, sequence in enumerate(nested_sequences):\n",
    "        # Extract the sequence ID and actual sequence from the input\n",
    "        seq_id, seq = sequence[0], sequence[1]\n",
    "        # One-hot encode the sequence and add the sequence ID as the first row\n",
    "        encoded_sequence = one_hot_encode(seq, seq_id, bases)\n",
    "        encoded_sequences.append(encoded_sequence)\n",
    "    return encoded_sequences\n",
    "\n",
    "# Example usage\n",
    "# sequences = [['seq1', 'ATCG'], ['seq2', 'CGTA'], ['seq3', 'NTCG']]\n",
    "bases = 'ATCGN'\n",
    "encoded_sequences = nested_one_hot_encode(final, bases)\n",
    "print(encoded_sequences)"
   ]
  },
  {
   "cell_type": "code",
   "execution_count": 34,
   "metadata": {},
   "outputs": [
    {
     "data": {
      "text/plain": [
       "array([[1., 0., 1., 0., 0.],\n",
       "       [1., 0., 0., 0., 0.],\n",
       "       [0., 0., 1., 0., 0.],\n",
       "       ...,\n",
       "       [0., 0., 0., 0., 1.],\n",
       "       [0., 0., 0., 0., 1.],\n",
       "       [0., 0., 0., 0., 1.]])"
      ]
     },
     "execution_count": 34,
     "metadata": {},
     "output_type": "execute_result"
    }
   ],
   "source": [
    "np.array(encoded_sequences)[0]"
   ]
  },
  {
   "cell_type": "code",
   "execution_count": 13,
   "metadata": {},
   "outputs": [],
   "source": [
    "encoded_sequences = np.array(encoded_sequences)\n",
    "# np.save(\"X.boot.200.CNN.npy\",encoded_sequences)\n",
    "# np.save(\"y.boot.200.CNN.npy\",y_boot)"
   ]
  },
  {
   "cell_type": "code",
   "execution_count": 1,
   "metadata": {},
   "outputs": [],
   "source": [
    "import numpy as np\n",
    "X_boot = np.load('./X.boot.200.CNN.npy')\n",
    "y_boot = np.load('./y.boot.200.CNN.npy')"
   ]
  },
  {
   "cell_type": "code",
   "execution_count": 2,
   "metadata": {},
   "outputs": [],
   "source": [
    "import pandas as pd\n",
    "import numpy as np\n",
    "y_boot = pd.Series(y_boot)\n",
    "y_boot = y_boot.replace(False,0)\n",
    "y_boot = y_boot.replace(True,1)\n",
    "y_boot = np.array(y_boot)"
   ]
  },
  {
   "cell_type": "code",
   "execution_count": 3,
   "metadata": {},
   "outputs": [
    {
     "name": "stdout",
     "output_type": "stream",
     "text": [
      "(13600, 2994, 5)\n",
      "(13600,)\n"
     ]
    }
   ],
   "source": [
    "print(X_boot.shape)\n",
    "print(y_boot.shape)"
   ]
  },
  {
   "cell_type": "code",
   "execution_count": 12,
   "metadata": {},
   "outputs": [
    {
     "name": "stdout",
     "output_type": "stream",
     "text": [
      "(8160, 2994, 5) (2720, 2994, 5) (8160,) (2720,)\n",
      "[[1. 0. 0. 0. 0.]\n",
      " [0. 1. 0. 0. 0.]\n",
      " [1. 0. 0. 0. 0.]\n",
      " ...\n",
      " [0. 0. 0. 0. 1.]\n",
      " [0. 0. 0. 0. 1.]\n",
      " [0. 0. 0. 0. 1.]]\n",
      "1\n"
     ]
    }
   ],
   "source": [
    "from sklearn.model_selection import train_test_split\n",
    "\n",
    "# splitting dataset\n",
    "X_train,X_other,y_train,y_other = train_test_split(X_boot,y_boot,train_size=0.6,random_state=3,stratify=y_boot)\n",
    "X_val,X_test,y_val,y_test = train_test_split(X_other,y_other,train_size=0.5,random_state=3,stratify=y_other)\n",
    "\n",
    "print(np.shape(X_train),np.shape(X_test),np.shape(y_train),np.shape(y_test))\n",
    "print(X_train[3])\n",
    "print(y_train[3])"
   ]
  },
  {
   "cell_type": "code",
   "execution_count": 13,
   "metadata": {},
   "outputs": [
    {
     "name": "stdout",
     "output_type": "stream",
     "text": [
      "Epoch 1/10\n",
      "82/82 [==============================] - 28s 324ms/step - loss: 0.7119 - accuracy: 0.7532 - val_loss: 0.6226 - val_accuracy: 0.7868\n",
      "Epoch 2/10\n",
      "82/82 [==============================] - 27s 334ms/step - loss: 0.6110 - accuracy: 0.7900 - val_loss: 0.6080 - val_accuracy: 0.7893\n",
      "Epoch 3/10\n",
      "82/82 [==============================] - 29s 349ms/step - loss: 0.5785 - accuracy: 0.8029 - val_loss: 0.5876 - val_accuracy: 0.7971\n",
      "Epoch 4/10\n",
      "82/82 [==============================] - 30s 366ms/step - loss: 0.5376 - accuracy: 0.8282 - val_loss: 0.5781 - val_accuracy: 0.8022\n",
      "Epoch 5/10\n",
      "82/82 [==============================] - 32s 385ms/step - loss: 0.4980 - accuracy: 0.8575 - val_loss: 0.5833 - val_accuracy: 0.7904\n",
      "Epoch 6/10\n",
      "82/82 [==============================] - 41s 504ms/step - loss: 0.4507 - accuracy: 0.8969 - val_loss: 0.5760 - val_accuracy: 0.8015\n",
      "Epoch 7/10\n",
      "82/82 [==============================] - 31s 375ms/step - loss: 0.4071 - accuracy: 0.9228 - val_loss: 0.5775 - val_accuracy: 0.7875\n",
      "Epoch 8/10\n",
      "82/82 [==============================] - 30s 362ms/step - loss: 0.3697 - accuracy: 0.9442 - val_loss: 0.5747 - val_accuracy: 0.7882\n",
      "Epoch 9/10\n",
      "82/82 [==============================] - 32s 395ms/step - loss: 0.3367 - accuracy: 0.9603 - val_loss: 0.5744 - val_accuracy: 0.7849\n",
      "Epoch 10/10\n",
      "82/82 [==============================] - 31s 381ms/step - loss: 0.3111 - accuracy: 0.9716 - val_loss: 0.5750 - val_accuracy: 0.7915\n"
     ]
    },
    {
     "data": {
      "text/plain": [
       "<keras.callbacks.History at 0x1894bcbe0>"
      ]
     },
     "execution_count": 13,
     "metadata": {},
     "output_type": "execute_result"
    }
   ],
   "source": [
    "# Build your CNN model with the appropriate input shape and other hyperparameters\n",
    "import tensorflow as tf\n",
    "\n",
    "model = tf.keras.models.Sequential([\n",
    "    tf.keras.layers.Conv1D(\n",
    "        filters=10, kernel_size=20, activation='leaky_relu', \n",
    "        strides = 1, padding = 'SAME'),\n",
    "    tf.keras.layers.MaxPooling1D(\n",
    "        pool_size=2),\n",
    "    tf.keras.layers.Conv1D(\n",
    "        filters=50, kernel_size=20, activation='leaky_relu',\n",
    "       strides = 1, padding = 'SAME'),\n",
    "    tf.keras.layers.MaxPooling1D(\n",
    "        pool_size=2),\n",
    "    tf.keras.layers.Flatten(),\n",
    "    tf.keras.layers.Dense(units=128, activation='leaky_relu',activity_regularizer=tf.keras.regularizers.L2(0.1)),\n",
    "    tf.keras.layers.Dropout(rate=0.5),\n",
    "    tf.keras.layers.Dense(units=12, activation='leaky_relu',activity_regularizer=tf.keras.regularizers.L2(0.1)),\n",
    "    tf.keras.layers.Dropout(rate=0.5),\n",
    "    tf.keras.layers.Dense(units=1, activation='sigmoid')\n",
    "])\n",
    "\n",
    "# parameters\n",
    "opt = tf.keras.optimizers.Adam(learning_rate=0.0005)\n",
    "loss = tf.keras.losses.BinaryCrossentropy(from_logits=False)\n",
    "\n",
    "# Train your model with the one-hot encoded sequences\n",
    "model.compile(\n",
    "    optimizer=opt, \n",
    "    loss=loss, \n",
    "    metrics=['accuracy']\n",
    "    )\n",
    "model.fit(\n",
    "    X_train, y_train, \n",
    "    epochs=10, \n",
    "    batch_size=100,\n",
    "    validation_data=(X_val,y_val)\n",
    "    )"
   ]
  },
  {
   "cell_type": "code",
   "execution_count": 14,
   "metadata": {},
   "outputs": [
    {
     "name": "stdout",
     "output_type": "stream",
     "text": [
      "28/28 [==============================] - 2s 85ms/step - loss: 0.5691 - accuracy: 0.7941\n"
     ]
    },
    {
     "data": {
      "text/plain": [
       "[0.5690501928329468, 0.7941176295280457]"
      ]
     },
     "execution_count": 14,
     "metadata": {},
     "output_type": "execute_result"
    }
   ],
   "source": [
    "model.evaluate(\n",
    "    X_test,y_test,batch_size=100\n",
    ")"
   ]
  },
  {
   "cell_type": "code",
   "execution_count": 15,
   "metadata": {},
   "outputs": [
    {
     "name": "stderr",
     "output_type": "stream",
     "text": [
      "WARNING:absl:Found untraced functions such as _jit_compiled_convolution_op, _jit_compiled_convolution_op, _update_step_xla while saving (showing 3 of 3). These functions will not be directly callable after loading.\n"
     ]
    },
    {
     "name": "stdout",
     "output_type": "stream",
     "text": [
      "INFO:tensorflow:Assets written to: cnn.R3.mod/assets\n"
     ]
    },
    {
     "name": "stderr",
     "output_type": "stream",
     "text": [
      "INFO:tensorflow:Assets written to: cnn.R3.mod/assets\n"
     ]
    }
   ],
   "source": [
    "model.save(\n",
    "    'cnn.R3.mod'\n",
    ")"
   ]
  },
  {
   "cell_type": "code",
   "execution_count": 8,
   "metadata": {},
   "outputs": [
    {
     "name": "stdout",
     "output_type": "stream",
     "text": [
      "Baseline Acc: 0.787\n"
     ]
    }
   ],
   "source": [
    "import pandas as pd \n",
    "baseline = pd.DataFrame(y_boot).value_counts()[0] / pd.DataFrame(y_boot).value_counts().sum()\n",
    "baseline = \"{:.3f}\".format(baseline)\n",
    "print(f\"Baseline Acc: {baseline}\")"
   ]
  },
  {
   "cell_type": "code",
   "execution_count": null,
   "metadata": {},
   "outputs": [],
   "source": [
    "import shap\n",
    "\n",
    "@jit(nopython=True)\n",
    "def my_numba_function():\n",
    "    # function body\n",
    "\n",
    "    shap.initjs()\n",
    "    # Need input shape for Keras model \n",
    "    # model = tf.keras.models.load_model('encoder') # if we have a saved model file\n",
    "    # model = encoder # if model is just stored as an object in the notebook\n",
    "\n",
    "    data = X_boot[np.random.choice(X_boot.shape[0],  size = 100, replace = False)] #set size to n. of points to explain\n",
    "    explainer = shap.DeepExplainer(model, data) # subset of training data\n",
    "    shap_values = explainer.shap_values(data) # may need to put test data here\n",
    "    shap.summary_plot(shap_values, data) # adjust\n",
    "\n",
    "my_numba_function()"
   ]
  },
  {
   "attachments": {},
   "cell_type": "markdown",
   "metadata": {},
   "source": [
    "## Transformer (K = 8): Preprocessing & constructing transformer"
   ]
  },
  {
   "cell_type": "code",
   "execution_count": 36,
   "metadata": {},
   "outputs": [],
   "source": [
    "# loading sample datasets\n",
    "import numpy as np\n",
    "X_boot = np.load('X.boot.200.npy')\n",
    "y_boot = np.load('y.boot.200.npy')"
   ]
  },
  {
   "cell_type": "code",
   "execution_count": 37,
   "metadata": {},
   "outputs": [],
   "source": [
    "X_boot = X_boot.tolist()\n",
    "X_boot = [lst[:] for lst in X_boot]\n",
    "final = []\n",
    "temp = []\n",
    "for lst in X_boot:\n",
    "    seq = ''.join(lst[1:-1])\n",
    "    temp.extend([lst[0],seq])\n",
    "    final.append(temp)\n",
    "    temp = []"
   ]
  },
  {
   "cell_type": "code",
   "execution_count": 39,
   "metadata": {},
   "outputs": [],
   "source": [
    "kmer_length = 8\n",
    "\n",
    "output_list = []\n",
    "for seq in final:\n",
    "    seq_id = seq[0]\n",
    "    seq_string = seq[1]\n",
    "    kmers = [seq_string[i:i+kmer_length] for i in range(len(seq_string)-kmer_length+1) if len(seq_string[i:i+kmer_length]) == kmer_length]\n",
    "    kmers.append('<END>')\n",
    "    output_list.append([seq_id] + kmers)"
   ]
  },
  {
   "cell_type": "code",
   "execution_count": 40,
   "metadata": {},
   "outputs": [
    {
     "data": {
      "text/plain": [
       "(13600, 2989)"
      ]
     },
     "execution_count": 40,
     "metadata": {},
     "output_type": "execute_result"
    }
   ],
   "source": [
    "np.array(output_list).shape"
   ]
  },
  {
   "cell_type": "code",
   "execution_count": 41,
   "metadata": {},
   "outputs": [],
   "source": [
    "X_boot = np.array(output_list)\n",
    "# np.save('X.boot.200.k8.npy',X_boot)\n",
    "# np.save('y.boot.200.k8.npy',y_boot)"
   ]
  },
  {
   "cell_type": "code",
   "execution_count": null,
   "metadata": {},
   "outputs": [],
   "source": [
    "X_boot = np.load('X.boot.200.k8.npy')\n",
    "y_boot = np.load('y.boot.200.k8.npy')"
   ]
  },
  {
   "cell_type": "code",
   "execution_count": 42,
   "metadata": {},
   "outputs": [
    {
     "name": "stdout",
     "output_type": "stream",
     "text": [
      "(13600, 2989)\n",
      "(13600, 1000)\n"
     ]
    }
   ],
   "source": [
    "print(X_boot.shape)\n",
    "X_boot = X_boot[:,:1000]\n",
    "print(X_boot.shape)"
   ]
  },
  {
   "cell_type": "code",
   "execution_count": 43,
   "metadata": {},
   "outputs": [
    {
     "name": "stdout",
     "output_type": "stream",
     "text": [
      "Baseline Acc: 0.787\n"
     ]
    }
   ],
   "source": [
    "import pandas as pd\n",
    "baseline = pd.DataFrame(y_boot).value_counts()[0] / pd.DataFrame(y_boot).value_counts().sum()\n",
    "baseline = \"{:.3f}\".format(baseline)\n",
    "print(\"Baseline Acc:\",baseline)"
   ]
  },
  {
   "cell_type": "code",
   "execution_count": 44,
   "metadata": {},
   "outputs": [
    {
     "name": "stdout",
     "output_type": "stream",
     "text": [
      "{'AAGAGNGN', 'TTTATANA', 'AAAGAGNG', 'GACACACA', 'AAAAGAGN', 'GTGNGNNN', 'ATATTTTN', 'GSM1535966_CapH2_NT_Rep1', 'TTTGTGAG', 'CTCCCCTC', 'AGGGGTGT', 'TTTCTCAC', 'CCCCCCCG', 'AACACTCT', 'CANANNNN', 'AGATATCT', 'TATATTTT', 'NGNGAGAC', 'GGGGTGTN', 'CNCTCTCT', 'CCCCCNCN', 'GTGTTTTC', 'TGTGGGGA', 'GAGAGACA', 'CTCGCGAG', 'ATTTTCTC', 'TTTTCTCA', 'AAAAAGAG', 'AAACACAC', 'CACAAAAC', 'GTGTNTNN', 'GCGCGCTC', 'ATATATAC', 'TACACACA', 'CGAGACAC', 'GATATCTC', 'GGTGTATA', 'NATATGTG', 'ANAAAAGA', 'GTGTCTCC', 'ACATATCT', 'AGGGGAGA', 'GAGATATN', 'AAAAAAAN', 'NGAGAGAG', 'TGTGTTTT', 'GGGGCGCN', 'AAATATNT', 'TCTCTCTC', 'TCTCACAG', 'GCGCACAN', 'NANAGAGC', 'CTTTTCTC', 'TCTTTTAT', 'TCTGTGCG', 'AAAATATA', 'GGAGAAAA', 'GGGAGAAA', 'ACACTCTA', 'GSM2133764_Kc_H3K27me3', 'CGAGAGAG', 'CACACGCG', 'ATAGAGCG', 'GSE101554_S2_Ez_ChIP_peaks', 'TGGGGCGC', 'GSM1535971_CBP_NT_Rep2', 'GNGCGCGC', 'ACTCTNTN', 'GAGCGCGC', 'CACTCTTT', 'GTGTGTGA', 'CACACAAA', 'AACACACA', 'NTTTTTTT', 'CTATATAT', 'CGCGGGGC', 'GAGAGAGT', 'NANACACG', 'CACGCGCG', 'AAAAGAGC', 'ATATATAT', 'CCGCGCGC', 'CCCACAGA', 'GSM2860390_GFPRNAi_GAFIP_R1_peaks', 'GGTGTGTG', 'CNNNNNNN', 'TCTCACAC', 'NAAAACAC', 'GSE37864_msl2', 'ACGCGTGT', 'Adelman_Dmel_S2_NELF-B_ChIP-seq_rep1and2', 'TCTCTCTT', 'GAGAGAAA', 'TGCGCTCT', 'CGTGTATA', 'CCCCACAG', 'NNNNNNCN', 'TATACACG', 'NNNNCNCA', 'TTATATAT', 'NNTNTGTG', 'NGNGGGGG', 'CACATATC', 'ANAGAGAG', 'TTTTCTCG', 'ATAAAAGA', 'NNNNCNCG', 'AAGAGGGG', 'CCCCTCTT', 'CGTGTCTC', 'TTCTCGCG', 'GTGTGTAT', 'CGCGNGNN', 'CCCACATA', 'ACCCCTCT', 'AAAACACG', 'GNGTGTGT', 'NCGCGCGC', 'GSM1015408_CtMod_peaks', 'NGGGGTGT', 'CACATATT', 'CGCGTGTA', 'GSM2133768_Kc_Pita', 'CTCGCGNG', 'NNTNTTTT', 'TTTTTGTG', 'NNNTNTAT', 'NTNTATAA', 'CTTTTTTT', 'NNNNANAA', 'AGATATTT', 'CCNCNNNN', 'TGTGGGGC', 'GSM2133767_Kc_Ibf2', 'TCACAAAA', 'ANNNNNNN', 'CACAGAGG', 'CACATATA', 'GTGGGGTG', 'NNTNTCTC', 'CTCNCNNN', 'NGAGACAC', 'TCACANAN', 'GSE101365_idr-macs2-mock_ago2_mueller', 'ATATGTGA', 'NCNCGCGG', 'AAAAGAGT', 'GCGAGACA', 'GSM948713_e6-8hr_FAIRE_peaks', 'TNNNNNNN', 'CAAAACAC', 'TTCTCCCC', 'AAAAAANA', 'ATCTCGCG', 'GSE101554_S2_M1BP_ChIP_peaks', 'CGCCCCAC', 'NNGNGCGC', 'CCCCTCTA', 'GSM1535988_Fs1h-L_NT_Rep2', 'GGCGCCCC', 'TATAGAGC', 'GNGGGGTG', 'GCGCCCCG', 'GCGCCCCC', 'ACACCCCG', 'CTCTCTCT', 'ATATATNT', 'TATAAAAA', 'TCGCGAGA', 'CCTCTCTC', 'CCCCGCGG', 'GSM1318351_dTFIIIC220_3', 'AGAGCGCC', 'AGAGAGAN', 'ACACTCTC', 'CTCTCTTT', 'GCGCGCCC', 'ANAGAGCG', 'GSM1015406_CtSuHw_peaks', 'ATATNTNN', 'ATATGTGT', 'AGAGAGAA', 'GSM1535970_CBP_NT_Rep1', 'ACAGAGGG', 'ANAAAATA', 'CCCCACAT', 'GGGGGGGT', 'NNNTNTTT', 'TCTCCCCG', 'GAGAAAAC', 'NCNCTCTA', 'TCTCACAA', 'GSE101554_S2_dRing_ChIP_peaks', 'GTGTGTCT', 'NTNTTTTC', 'Adelman_Dmel_S2_H3K27ac_ChIP-seq_rep1and2', 'GTGTTTTA', 'TNTNNNNN', 'NNNNTNTT', 'NGCGCGCG', 'NGTGTTTT', 'NNNNNNTN', 'CGCGCGAG', 'NNGNGAGA', 'GSE37864_msl1', 'TCTCCCCA', 'GCGTGTAT', 'GAGTGTAT', 'CGCACACA', 'GSM1535987_Fs1h-L_NT_Rep1', 'NTNTATAC', 'ATGTGAGA', 'AATATCTC', 'GGNGNNNN', 'CTCTNTNN', 'CCCCCCCT', 'GSM2443787_Ash1-in-WT', 'TTTATAAA', 'AAAAACAC', 'TGCGCACA', 'NCNCACAT', 'CNCACATA', 'GCACATAT', 'AAAAAAAT', 'ATATATGT', 'CNCNNNNN', 'NNCNCACA', 'ACAAAATA', 'NNANATAT', 'CTATAGAG', 'GTTTTGTG', 'ATATGTGN', 'NCACAAAA', 'TTATAGAG', 'TCTGTGNG', 'TGGGGNGN', 'NNNNANAG', 'TGTGCGCN', 'GCGGGGAG', 'NANACACT', 'TTTATACA', 'TATCTCAC', 'ATTTTTTT', 'TGTGAGAC', 'GGAGACAC', 'GGGGGGGC', 'CACCCCTC', 'TCTATATA', 'NNNGNGTG', 'ATGTGTGT', 'GAGAAAAG', 'ATATCTCT', 'TTCTCACA', 'GGGGCGCG', 'TNTTTTAT', 'TGTATANA', 'GGGTGTCT', 'CACATATN', 'AGAGAGGG', 'AAAAAACA', 'ATATCTCN', 'NAGAGGGG', 'CATATGTG', 'ATAGAGAG', 'GCGCGCGC', 'CTCACANA', 'GCCCCTCT', 'TCTCTATA', 'GCGAGATA', 'GCGCCCCA', 'NNNCNCAC', 'GATATATA', 'ACGCGGGG', 'CNCACACA', 'GTTTTATA', 'CTCACAAA', 'CACACACA', 'TATATATN', 'TATAGAGN', 'ACACACAT', 'ATATATTT', 'TCTCGCGN', 'NNNNNGNG', 'TTTGTGCG', 'TTTTGTGN', 'GAGANANN', 'GAGACACC', 'CAAAAAAA', 'NGGGGGGG', 'CNCGCGTG', 'TNTATACA', 'NANAGAGG', 'GSM1015410_Ct-CTCF_peaks', 'GTGAGACA', 'TCCCCACA', 'TTCTCTCT', 'ANAAAACA', 'GSM2133766_Kc_Ibf1', 'GSM2487547_H3K9me3', 'AAAANANN', 'TTGTGGGG', 'CTCTATAG', 'TCTTTTNT', 'GGGGCGCA', 'TGTGAGAT', 'GAGGGGCG', 'TATTTTTT', 'ATAAAAAA', 'CCCCGCGC', 'AAAACACN', 'ACACACNC', 'ACTCTATA', 'TAGAGAGA', 'GCCCCGCG', 'CACGCGTG', 'NCNCTCTT', 'GAAAATAT', 'NNNNTNTC', 'GGGGGGTG', 'TAGAGNGN', 'AAAACACC', 'CTCTATAA', 'AAAATATT', 'TCACAGAG', 'TTTTATAG', 'TCTCTGTG', 'GSM2487551_H2Bub', 'NGNGTGTA', 'CCACANAN', 'CACTCTGT', 'ACAGAGNG', 'ATATTTTT', 'CTCTATAN', 'GAGAAAAN', 'CNCTCTGT', 'GACACTCT', 'NTNTTTTA', 'GGGGAGAT', 'ACACTCTG', 'CACAAAAT', 'NACACTCT', 'GCGCTCTA', 'CTCTCCCC', 'CGCGCTCT', 'TTTTGTGA', 'ANACACGC', 'AGCGCNCN', 'CACACNCN', 'NTATATAT', 'GSE101554_S2_HA_ChIP', 'NNNNNCNC', 'AAACACNC', 'ACATATGT', 'CCCCTCTC', 'GTGTATAN', 'CACACACG', 'TTGTGTGT', 'NANATATC', 'CCCTCTGT', 'ACCCCGCG', 'CGTGTGTG', 'CNCCCCGC', 'CTCACACA', 'TGTGTGTG', 'TANANNNN', 'ATATCTCG', 'ATCTCTCT', 'TTTCTCCC', 'CGCTCTGT', 'TGGGGAGA', 'NAAAATAT', 'NANNNNNN', 'NAAAAAAA', 'GGTGTTTT', 'ATATANAN', 'AAACACGC', 'GAAAAGAG', 'GTGCGCNC', 'GCGNGNNN', 'TTTGTGGG', 'GCGCTCTN', 'CCCACAAA', 'ATCTCACA', 'CGTGTNTN', 'GSM2202474_Gcn5_GFP_RNAi_macs14_peaks', 'TCTCTCNC', 'TATGTGGG', 'ACACACAC', 'CGCCCCGC', 'GCTCTATA', 'CCGCGTGT', 'TATCTCNC', 'CTCTTTTA', 'NNNTNTCT', 'ANANNNNN', 'TCTGTGTG', 'CGCCCCCC', 'TTTTTNTN', 'TGCGCGCG', 'CTCTCTCN', 'ATATTTTG', 'ACACGCGA', 'AAAAAAAG', 'CTATANAN', 'ACAAAANA', 'CTATACAC', 'ATACACTC', 'CCCCTCTG', 'ATAGAGTG', 'NATATATA', 'CNCGCGCG', 'TCTATAGA', 'NNNNANAT', 'GTGTTTTG', 'GNGTGTTT', 'NAGAGAGA', 'CGCACANA', 'CCCGCGAG', 'GSM1535967_CapH2_NT_Rep2', 'TATAAAAT', 'ANAAAAAA', 'TTTTTTTC', 'NNNNANAC', 'CCTCTNTN', 'CAAAAGAG', 'GCACAGAG', 'TGTCTCTC', 'GAGACACG', 'CTCCCCCC', 'TCTCGCGT', 'CTCTCGCG', 'GTGTCTCG', 'NTNTCTCA', 'GCCCCCCC', 'AAATATAT', 'NANATATG', 'AAAATATC', 'GGGCGCCC', 'ACCCCCCC', 'ACACCCCA', 'TTTTTTAT', 'AATATNTN', 'NTGTGTGT', 'CTCTGTGN', 'TTGTGNGN', 'GAAAANAN', 'AGAGAGAT', 'ACACGCGN', 'ATAAAATA', 'GTCTCNCN', 'NTNTCTCT', 'CACACTCT', 'NTCTCTCT', 'TGTTTTCT', 'GCGCGTGT', 'CGAGATAT', 'CTCTGTGG', 'AAAATATN', 'CGAGANAN', 'NNNGNGAG', 'NTNTATAT', 'GCGCTCTT', 'NANATATT', 'TATTTTCT', 'GTGAGATA', 'TTTTCTCN', 'GCCCCNCN', 'TCTTTTCT', 'CACATATG', 'TGTGAGAN', 'TGTCTCCC', 'AGCGCTCT', 'ACACGCGG', 'CCGCGAGA', 'AGAGGGGN', 'AGAGTGTA', 'TTTTCTCC', 'TTTTGTGG', 'GAGAGTGT', 'AAACACTC', 'TGCGCCCC', 'GSE37864_msl3', 'GAGCGCTC', 'ANATATCT', 'NANAGAGA', 'TATATACA', 'NANAAAAT', 'CGCGCNCN', 'CGCACATA', 'NGNGGGGT', 'GSM2487549_H4K20me1', 'CNCGCGGG', 'TATAGAGT', 'GACACCCC', 'CAAAATAT', 'GCACAAAA', 'AGAGGGGT', 'GCGCCCCN', 'TGAGANAN', 'AGAAAACA', 'NNNNGNGG', 'ANACACTC', 'GCNCNNNN', 'ACACGCGT', 'GSM948712_e2-4hr_FAIRE_peaks', 'CNCACAGA', 'CTCTTTTT', 'NTATACAC', 'NNNANAAA', 'ACACACAN', 'ATTTTGTG', 'GSM2133769_Kc_ZIPIC', 'CCCCACAC', 'ANATATTT', 'NTTTTATA', 'AAAGAGCG', 'ATATATAA', 'NNNCNCCC', 'GACACGCG', 'CTNTNNNN', 'NNNNCNCT', 'NNNNNNNN', 'AGTGTGTG', 'GACACNCN', 'ACACAAAA', 'TGTGTNTN', 'TCTATACA', 'TGTATAAA', 'ATATACAC', 'CGCGCCCC', 'GCGCACAG', 'CTTTTNTN', 'GSM892323_L3mbt', 'GCGTGTGT', 'GAGATATG', 'GCGCGCAC', 'CGGGGTGT', 'GAGCGCNC', 'GTGTTTTT', 'GTGTCTCT', 'GTGCGCTC', 'CACCCCNC', 'TGGGGGGG', 'NNNNGNGA', 'TCGCGCGC', 'GTNTNNNN', 'GGGGAGAA', 'NCNCCCCA', 'GNGTGTAT', 'NGNGAGAG', 'GAAAACAC', 'ACACCCCC', 'ACAAAACA', 'TCTCTTTT', 'AGGGGGGG', 'NNNNNTNT', 'GGGAGANA', 'TGTGAGAG', 'CTCTGTGA', 'TCNCNNNN', 'CCCACANA', 'GCGTGTNT', 'CACAGAGT', 'TTTATAGA', 'GTGTGTGC', 'NTTTTCTC', 'GGGGGGGA', 'GCACANAN', 'NAGAGCGC', 'CGCCCCTC', 'CGCGCGCA', 'CTCTCTCC', 'AGGGGNGN', 'CTCTATAT', 'GCGCNCNN', 'TGTGGGGG', 'CCCCGCGN', 'TCTCGCGG', 'ACACTCTT', 'AAAAATAT', 'TTTTNTNN', 'AGANANNN', 'ACATATNT', 'AGAGACAC', 'CCCACACA', 'AGAGCGCT', 'TCTATAAA', 'Adelman_Dmel_S2_H3K4me1_ChIP-seq_rep1and2', 'GCGCGCNC', 'GAGAGAGN', 'GTGTTTTN', 'CCTCTATA', 'ATATTTTA', 'NNANAGAG', 'TGTTTTTT', 'GTGTGAGA', 'GGGGTGTA', 'TNTTTTTT', 'NANAAAAG', 'GAGGGGNG', 'TCTCTCAC', 'CCCGCGGG', 'GGGNGNNN', 'GGGGNGNN', 'AGAAAAAA', 'GSM948714_e16-18hr_FAIRE_peaks', 'ACAGAGTG', 'GCGTGTCT', 'TCTNTNNN', 'TGTTTTNT', 'CACGCGAG', 'GSM1535975_Chromator_NT_Rep1', 'GGGGGGGN', 'TGTGTGAG', 'ACACGCGC', 'AGACACCC', 'ANATATAT', 'NCNCACAG', 'AAAACACA', 'TCTCGCGC', 'TTTTATAN', 'AGCGCACA', 'TTTTTTTN', 'TGTGTGTT', 'CCCCCACA', 'GGGGGGAG', 'CACTCTAT', 'NCTCTGTG', 'NANATATA', 'ACACACCC', 'GGGTGTGT', 'GSE37864_mof', 'AGTGTCTC', 'CACACANA', 'CCCCTCTN', 'CTCTGTGC', 'GSM1535972_CBP_NT_Rep3', 'GSM1535980_CP190_NT_Rep2', 'ANATATGT', 'AATATTTT', 'TTTGTGTG', 'AGAGATAT', 'CACAGAGC', 'AGAGGGGG', 'CTCTCACA', 'NANACACA', 'TGAGACAC', 'CTCTATAC', 'TTTCTCGC', 'CTCTCNCN', 'GGGCGCAC', 'CTCACATA', 'CCCGCGNG', 'TTTTTTTG', 'TACACNCN', 'AAAGAGTG', 'GGGCGCGC', 'AGAGAGAC', 'NCNCGCGT', 'CGGGGNGN', 'CACAGAGN', 'AAATATTT', 'ATCTCCCC', 'CNCTCTAT', 'CGCTCTTT', 'GSM1535976_Chromator_NT_Rep2', 'CGCGAGAG', 'NCACAGAG', 'ACACAGAG', 'AGACACAC', 'ATCTCNCN', 'TGTGGGGN', 'AGCGCGCG', 'CCCGCGTG', 'TATATATT', 'CCCCGCGT', 'TGGGGTGT', 'CTGTGAGA', 'TGTGCGCT', 'CATATTTT', 'TAGAGTGT', 'TATATAAA', 'GTCTCGCG', 'NTTTTGTG', 'GTGTGTNT', 'ACACACTC', 'ACTCTCTC', 'GGGGTGTG', 'TAAAATAT', 'TTTTTTTT', 'AGAGAGTG', 'NTATAAAA', 'TCCCCNCN', 'GGCGCNCN', 'GGGAGAGA', 'AGAGGGGA', 'CCCNCNNN', 'GCGGGGTG', 'CAGAGGGG', 'ATATATAN', 'TATACACN', 'GTATAAAA', 'GGGGGCGC', 'TTTTGTGT', 'GSM2860389_GFPRNAi_ClampIP_R1_peaks', 'AGTGTTTT', 'ACACANAN', 'ATATGTGG', 'NNNNTNTG', 'TCCCCCCC', 'AGTGTNTN', 'ACATATAT', 'TATAGAGA', 'ATATGTGC', 'TNTCTCTC', 'GTGTGTGT', 'AAAAAATA', 'TGAGATAT', 'AAGAGCGC', 'GAGACACN', 'ATATCTCA', 'GATATTTT', 'AAAAAAAA', 'AGAGNGNN', 'TATACACA', 'NTNTGTGT', 'CCCCACAA', 'TGTGTGTA', 'GCGCACAC', 'TATATATC', 'ATATCTCC', 'GAGAGAGA', 'GGCGCGCG', 'NNGNGTGT', 'CCCCCCNC', 'CTCACAGA', 'GATATGTG', 'GGGGGGGG', 'NTCTCGCG', 'GSM2202471_Gcn5_GFP_peaks', 'TGTGCGCC', 'AAATATCT', 'TCTCTCCC', 'ATACACAC', 'GSM1535985_DREF_NT_Rep2', 'TCTCACAN', 'TATGTGCG', 'ATATATAG', 'GANANNNN', 'GGGTGTNT', 'AAAACACT', 'GCGGGGNG', 'ACGCGNGN', 'GAGAAAAT', 'AATATGTG', 'CGCGCGCN', 'NCCCCTCT', 'CGCGAGAC', 'ATTTTATA', 'GTCTCTCT', 'CAGAGAGA', 'ACACACAA', 'ATATAAAA', 'TAAAAAAA', 'GAGAGNGN', 'GGGTGTAT', 'AANANNNN', 'TGTGGGGT', 'TCACATAT', 'GGGAGACA', 'TGTCTCAC', 'NNNCNCGC', 'TNTTTTGT', 'CTCTCTNT', 'NNNNGNGT', 'ATGTGGGG', 'ACACACAG', 'GCTCTGTG', 'GATATNTN', 'CGCGTGTC', 'NCNCCCCT', 'CAGAGNGN', 'CACCCCCC', 'GCGAGANA', 'GGGGTGTC', 'GAGAGCGC', 'TATATATG', 'CGCTCTNT', 'TNTATATA', 'ATAGAGNG', 'GGGGGAGA', 'GSM1318350_dTFIIIC220_2', 'GTGTATAG', 'GGCGCACA', 'ACACTCTN', 'GNGAGAGA', 'GTGAGAGA', 'CACANANN', 'TTCTCNCN', 'CCCCGCGA', 'TNTCTCGC', 'TTTGTGNG', 'CCCCCCCA', 'ACACATAT', 'TGTGNGNN', 'TGCGCNCN', 'ACCCCACA', 'GCGCGCGA', 'ATACACCC', 'GGGGAGAC', 'GCGCTCTC', 'TTTTGTGC', 'GAGTGTTT', 'GTATAGAG', 'TTTTATAT', 'ACAGAGCG', 'CGCCCCNC', 'GTGTGGGG', 'ACACCCCN', 'TTTTTTNT', 'CGCGTGTG', 'TGAGAAAA', 'CGCGGGGN', 'NCNCACAA', 'CCCCCTCT', 'CTCGCGCG', 'TTATAAAA', 'CGCACAGA', 'TATTTTNT', 'GCGCCCCT', 'TTTATATA', 'GAGACACT', 'GSE101554_S2_Rpb3_ChIP_peaks', 'NTNTTTTT', 'TATAAAAN', 'CTCTCTAT', 'CNCTCTTT', 'CCCCCGCG', 'NACACGCG', 'TTGTGCGC', 'GGGGCGCT', 'ATNTNNNN', 'GAGAAAAA', 'GTGAGANA', 'TCCCCTCT', 'AGAGTGTT', 'TNTGTGTG', 'CAGAGTGT', 'TCACACAC', 'TCTGTGGG', 'CACAGAGA', 'NNNNNNAN', 'TAGAGGGG', 'CCCTCTNT', 'TCTCCCCT', 'CGCGAGAT', 'GGGGGGNG', 'NCTCTTTT', 'ACACCCCT', 'CATATNTN', 'NCNCGCGC', 'GTGTGTGG', 'CACACACT', 'NGNNNNNN', 'TTGTGAGA', 'CCCCCCGC', 'TATACACT', 'TATAAAAG', 'CGGGGGGG', 'TATGTGNG', 'GCTCTNTN', 'NTNNNNNN', 'AGTGTATA', 'ACGCGAGA', 'GAAAAAAA', 'GTATANAN', 'TGTTTTGT', 'NTCTCACA', 'Adelman_Dmel_S2_RNAPolII_ChIP-seq_control_rep1and2_normalized', 'CGCTCTCT', 'TGNGNNNN', 'NCACATAT', 'GGGGCGCC', 'NNNNGNGC', 'AGACACNC', 'GTGGGGCG', 'TATATNTN', 'NACACACA', 'NNGNGGGG', 'AGACACTC', 'TCTCTCTG', 'TTNTNNNN', 'CCCCACAN', 'CAAAANAN', 'ATGTGCGC', 'NGNGCGCG', 'GSM2860393_GFPRNAi_ClampIP_R2_peaks', 'TAGAGCGC', 'NNNTNTGT', 'TTTTCTCT', 'GSM2133763_Kc_H3', 'CACACACC', 'NCNCCCCC', 'GTTTTNTN', 'CCCGCGCG', 'GCGCGAGA', 'NAAAAGAG', 'GSM1318359_CP190', 'NATATCTC', 'NNNANAGA', 'TGTGAGAA', 'CGGGGAGA', 'TATCTCGC', 'CNCACAAA', 'TGTGTATA', 'CTCCCCAC', 'GNGAGACA', 'TGTGTGTC', 'NGCGCACA', 'GGGGGTGT', 'AAATATGT', 'TGTGTGCG', 'TTTTTTTA', 'ACACACGC', 'TATATAGA', 'NNNNNNGN', 'AGATATGT', 'GAGGGGTG', 'NTNTCTCG', 'CTCGCGGG', 'NCNNNNNN', 'AAAATATG', 'AAAGAGGG', 'GTGCGCAC', 'GTGTCTCA', 'CCACATAT', 'GCGCGCGN', 'TATCTCCC', 'TGTGCGCA', 'NNNGNGGG', 'GAGGGGGG', 'NNNNNNNG', 'CGCGAGAN', 'GTCTCACA', 'NANAAAAC', 'GCGCGCGT', 'TGTCTCNC', 'CATATATA', 'NNTNTATA', 'CACGCGNG', 'TCTTTTTT', 'CTCTGTGT', 'ATAGAGGG', 'TTTTTTGT', 'AAAAGAGG', 'CTCTCTCA', 'GTGAGAAA', 'CGNGNNNN', 'NATATTTT', 'TCGCGGGG', 'TATCTCTC', 'CNCCCCAC', 'ANAGAGGG', 'AGAGCGCN', 'CTCTTTTG', 'AGAGCGCA', 'GTATACAC', 'GSE85191_Adelman_Dmel_S2_Cohesin_ChIP-seq_rep1and2', 'NANAAAAA', 'GSM1318349_dTFIIIC220_1', 'GAGCGCCC', 'CCGCGNGN', 'NCTCTCTC', 'CACAAAAA', 'CGCTCTAT', 'CGAGAAAA', 'TATTTTAT', 'GAGCGCAC', 'CCCTCTTT', 'GCGCACAT', 'GAGAGGGG', 'GTGTGNGN', 'NCCCCACA', 'TATATGTG', 'CACNCNNN', 'GAGAGATA', 'AGNGNNNN', 'ACAAAAGA', 'GCGGGGGG', 'GAGTGTGT', 'GGGCGCNC', 'CCACAAAA', 'AATATATA', 'CACTCTNT', 'GAGAGAGC', 'CACACATA', 'GSM1535963_BEAF_NT_Rep2', 'TNTCTCAC', 'NGTGTATA', 'TNTATAGA', 'GSM2487550_H3_3', 'GTGCGCCC', 'GSM2133770_Kc_Nup98', 'NTATAGAG', 'TATACACC', 'GCGCTCTG', 'CNCCCCTC', 'AAAAGAGA', 'CGCGCGTG', 'ACACNCNN', 'NNNNNNNT', 'TTTTATAA', 'CCCCCCCC', 'NCNCTCTC', 'AAAAAAAC', 'ATAAAANA', 'CCCCCCCN', 'GNGAGAAA', 'TGAGAGAG', 'GTGGGGGG', 'GAGAGANA', 'GCTCTCTC', 'NNNNNNNA', 'CTCTCTGT', 'GCCCCACA', 'TATTTTGT', 'GGGTGTTT', 'CTCCCCNC', 'TCTCCCCC', 'ATTTTNTN', 'CCCCCCTC', 'CGCGCGGG', 'NCNCACAC', 'GTCTCCCC', 'CGCACAAA', 'TNTTTTCT', 'GSM2860398_GFPRNAi_GAFIP_R3_peaks', 'ATATATCT', 'CGTGTTTT', 'GTGGGGNG', 'GGTGTCTC', 'TGTNTNNN', 'CACGCGGG', 'AGAGTGTN', 'AGAGAGNG', 'TTATACAC', 'CGGGGCGC', 'GCGCGGGG', 'TGTGTGGG', 'GGGGAGAN', 'GAGACACA', 'NGNGTGTG', 'NCCCCGCG', 'NGNGAGAA', 'TGTTTTAT', 'AGAGAAAA', 'TGTATACA', 'TCTCTNTN', 'NANACACC', 'TGTGTCTC', 'NTNTATAG', 'GAGTGTCT', 'GSM2443786_Ash1-in-WT', 'GTGCGCGC', 'CGCGCGNG', 'CGCGGGGG', 'GTGTCTCN', 'CCGCGGGG', 'ATACACGC', 'GGGGTGTT', 'TCTCCCCN', 'GGAGATAT', 'TTATANAN', 'CTGTGNGN', 'GAGNGNNN', 'CTTTTATA', 'TGTCTCGC', 'GCGCACAA', 'AGCGCCCC', 'NCGCGTGT', 'TNTATAAA', 'CCTCTTTT', 'NNCNCTCT', 'TGTGTGTN', 'TATAGAGG', 'NNNCNCTC', 'GNGCGCAC', 'GSM1318353_Barren_int', 'CCCTCTCT', 'TATATANA', 'CACCCCGC', 'GAGATATA', 'GSM1535983_CTCF_NT_Rep2', 'GCGCGCGG', 'GCGTGTTT', 'NGNGTGTT', 'ATANANNN', 'CGCGCACA', 'CACACAGA', 'GNNNNNNN', 'TTTTTTCT', 'AGAGANAN', 'NGAGAAAA', 'GGCGCTCT', 'CACCCCAC', 'TTTNTNNN', 'GSM2860394_GFPRNAi_GAFIP_R2_peaks', 'AAGAGTGT', 'AACACNCN', 'AGATATAT', 'ACATATTT', 'AAAAANAN', 'GAGATATT', 'GGGGAGAG', 'AGAAAAGA', 'AGGGGCGC', 'GAGATATC', 'NCNCCCCG', 'AAAAAAGA', 'TACACTCT', 'GCGAGAAA', 'CGCGCGCC', 'CTCTTTTC', 'CGCGGGGT', 'AGAGTGTG', 'GCTCTTTT', 'CCCCCCAC', 'CTGTGCGC', 'NNANAAAA', 'CATATCTC', 'NCNCTCTG', 'CGCNCNNN', 'CTGTGGGG', 'CCTCTGTG', 'ACANANNN', 'GCACACAC', 'CCACAGAG', 'CTCCCCGC', 'CTCTTTTN', 'AGACACGC', 'AGATATNT', 'GTGTGCGC', 'CNCCCCCC', 'CGCGCGCT', 'CGCGAGAA', 'AGAAAANA', 'CGCGTGTN', 'GGGAGATA', 'AACACCCC', 'TACACCCC', 'NNNNNANA', 'ACAGAGAG', 'GCGGGGCG', 'CTCTCTCG', 'GAGTGTNT', 'TATANANN', 'NGNGCGCA', 'CTCGCGTG', 'ACTCTTTT', 'AGAGCGCG', 'TCTCACAT', 'GGAGAGAG', 'GTGTATAT', 'GCGCGNGN', 'ACCCCNCN', 'CTTTTGTG', 'AGAGGGGC', 'CACACACN', 'NNCNCCCC', 'TGTATATA', 'NACACCCC', 'TAAAACAC', 'AGAGAGAG', 'TATNTNNN', 'AGAGAGCG', 'GNGNNNNN', 'AAACACCC', 'TCTCGCGA', 'ACGCGCGC', 'TAAAANAN', 'CAGAGCGC', 'GCGAGAGA', 'AGAAAATA', 'GTTTTTTT', 'TCTCTCTN', 'ATATTTTC', 'AAANANNN', 'GTGTATAA', 'ANACACCC', 'TTTTTCTC', 'GGGGGGCG', 'NCACACAC', 'TCTATANA', 'GGGGGNGN', 'CCACACAC', 'NNNNCNCC', 'NCTCTATA', 'ACNCNNNN', 'ACTCTGTG', 'ATGTGNGN', 'CTATAAAA', 'GTATATAT', 'TATATCTC', 'TTTCTCNC', 'ATACACNC', 'NCCCCCCC', 'TCTCTCGC', 'TATGTGTG', 'TGTATAGA', 'ANACACAC', 'CACAAAAN', 'GTGTATAC', 'ACAAAAAA', 'TATAAAAC', 'TACACGCG', 'ATATAGAG', 'CCCTCTAT', 'NNNNNNNC', 'NTNTTTTG', 'TATGTGAG', 'TTTTATAC', 'TCGCGNGN', 'TAAAAGAG', 'CTGTGTGT', 'CCCCNCNN', 'TGTGTGNG', 'TTTTTATA', 'GSE101554_S2_GAF_ChIP_peaks', 'AAGAGAGA', 'CACTCTCT', 'GSM2860401_GFPRNAi_ClampIP_R4_peaks', 'NNNANATA', 'TCTGTGAG', 'NCGCGGGG', 'TCTCTCTA', 'TCCCCGCG', 'GAGGGGAG', 'NNCNCGCG', 'CACAAAAG', 'AGAGTGTC', 'CACACCCC', 'GGTGTNTN', 'CGCGGGGA', 'TGTGCGCG', 'NNNANACA', 'GTGTGTGN', 'AACACGCG', 'ATAAAACA', 'NNNGNGCG', 'TCTCNCNN', 'AAAGAGAG', 'TCTTTTGT', 'Adelman_Dmel_S2_H3K4me3_ChIP-seq_rep1and2', 'TATATATA', 'TCGCGTGT', 'GGAGANAN', 'GNGGGGGG', 'TTTCTCTC', 'GTGTGTTT', 'CGCGTGTT', 'GGGCGCTC', 'NNNNTNTA', 'CGCGCGCG', 'GTTTTCTC', 'NNANACAC', 'GAGAGAGG', 'NGTGTGTG', 'GTGGGGAG'}\n"
     ]
    }
   ],
   "source": [
    "# obtaining keys to use in dictionary =\n",
    "import numpy as np\n",
    "\n",
    "def get_unique_items(nested_list):\n",
    "    unique_items = set()\n",
    "    for item in nested_list:\n",
    "        if isinstance(item, list):\n",
    "            unique_items.update(get_unique_items(item))\n",
    "        else:\n",
    "            unique_items.add(item)\n",
    "    return unique_items\n",
    "\n",
    "all_keys = get_unique_items(X_boot.tolist())\n",
    "print(all_keys)"
   ]
  },
  {
   "cell_type": "code",
   "execution_count": 45,
   "metadata": {},
   "outputs": [
    {
     "name": "stdout",
     "output_type": "stream",
     "text": [
      "Number of Items in Dictionary: 1268\n"
     ]
    }
   ],
   "source": [
    "# constructing dictionary\n",
    "dna_dict = {}\n",
    "counter = 0 \n",
    "for i in all_keys:\n",
    "    dna_dict[i] = counter\n",
    "    counter+=1\n",
    "\n",
    "print(\"Number of Items in Dictionary:\",len(dna_dict))"
   ]
  },
  {
   "cell_type": "code",
   "execution_count": 46,
   "metadata": {},
   "outputs": [
    {
     "name": "stdout",
     "output_type": "stream",
     "text": [
      "Original Sequence: ['Adelman_Dmel_S2_H3K27ac_ChIP-seq_rep1and2', 'ACTCTTTT', 'CTCTTTTC', 'TCTTTTCT', 'CTTTTCTC']\n",
      "Updated Sequence: [195, 1158, 1122, 467, 52]\n"
     ]
    }
   ],
   "source": [
    "# replacing keys with values in the dataset\n",
    "print(\"Original Sequence:\",X_boot.tolist()[0][:5])\n",
    "\n",
    "def replace_values(nested_list, dictionary):\n",
    "    \"\"\"\n",
    "    Given a nested list, replaces every item with the corresponding value in a dictionary.\n",
    "    \"\"\"\n",
    "    if isinstance(nested_list, list):\n",
    "        return [replace_values(item, dictionary) for item in nested_list]\n",
    "    elif nested_list in dictionary:\n",
    "        return dictionary[nested_list]\n",
    "    else:\n",
    "        return nested_list\n",
    "\n",
    "seqs_out = replace_values(X_boot.tolist(),dna_dict)\n",
    "print(\"Updated Sequence:\",seqs_out[0][:5])"
   ]
  },
  {
   "cell_type": "code",
   "execution_count": 47,
   "metadata": {},
   "outputs": [],
   "source": [
    "X_boot = np.array(seqs_out)\n",
    "y_boot = np.array(y_boot)"
   ]
  },
  {
   "cell_type": "code",
   "execution_count": 48,
   "metadata": {},
   "outputs": [],
   "source": [
    "np.save('X.boot.200.k8.processed.npy',X_boot)\n",
    "np.save('y.boot.200.k8.processed.npy',y_boot)"
   ]
  },
  {
   "cell_type": "code",
   "execution_count": 31,
   "metadata": {},
   "outputs": [],
   "source": [
    "import tensorflow as tf\n",
    "from sklearn.model_selection import train_test_split\n",
    "X_train,X_other,y_train,y_other = train_test_split(X_boot,y_boot,train_size=0.8,stratify=y_boot,random_state=22)\n",
    "X_val,X_test,y_val,y_test = train_test_split(X_other,y_other,train_size=0.5,stratify=y_other,random_state=22)"
   ]
  },
  {
   "cell_type": "code",
   "execution_count": null,
   "metadata": {},
   "outputs": [],
   "source": [
    "import numpy as np\n",
    "import tensorflow as tf\n",
    "from transformer import TransformerEncoder\n",
    "from tensorflow.keras.losses import BinaryCrossentropy\n",
    "from tensorflow.keras.optimizers import Adam\n",
    "\n",
    "# Testing model\n",
    "encoder = TransformerEncoder(\n",
    "    vocab_size=1268,\n",
    "    emb_sz=64,\n",
    "    num_of_blocks=2,\n",
    "    num_of_atten_heads=4,\n",
    "    window_size=1000)\n",
    "\n",
    "encoder.compile(\n",
    "    optimizer = Adam(learning_rate=0.001),\n",
    "    loss = BinaryCrossentropy(from_logits=False),\n",
    "    metrics=['acc']\n",
    ")\n",
    "encoder.fit(\n",
    "    X_train,y_train,\n",
    "    epochs=5,batch_size=100,\n",
    "    validation_data=(X_val,y_val)\n",
    ")"
   ]
  },
  {
   "cell_type": "code",
   "execution_count": 34,
   "metadata": {},
   "outputs": [
    {
     "name": "stdout",
     "output_type": "stream",
     "text": [
      "28/28 [==============================] - 11s 393ms/step - loss: 1.0230 - acc: 0.8250\n"
     ]
    },
    {
     "data": {
      "text/plain": [
       "[1.0230218172073364, 0.824999988079071]"
      ]
     },
     "execution_count": 34,
     "metadata": {},
     "output_type": "execute_result"
    }
   ],
   "source": [
    "encoder.evaluate(\n",
    "    X_test,y_test,batch_size = 50\n",
    ")"
   ]
  },
  {
   "cell_type": "code",
   "execution_count": 32,
   "metadata": {},
   "outputs": [
    {
     "name": "stdout",
     "output_type": "stream",
     "text": [
      "Baseline Acc: 0.787\n"
     ]
    }
   ],
   "source": [
    "import pandas as pd\n",
    "baseline = pd.DataFrame(y_boot).value_counts()[0] / pd.DataFrame(y_boot).value_counts().sum()\n",
    "baseline = \"{:.3f}\".format(baseline)\n",
    "print(\"Baseline Acc:\",baseline)"
   ]
  },
  {
   "attachments": {},
   "cell_type": "markdown",
   "metadata": {},
   "source": [
    "## Transformer (K = 5): Preprocessing & constructing transformer"
   ]
  },
  {
   "cell_type": "code",
   "execution_count": 1,
   "metadata": {},
   "outputs": [],
   "source": [
    "# loading sample datasets\n",
    "import numpy as np\n",
    "X_boot = np.load('X.boot.200.npy')\n",
    "y_boot = np.load('y.boot.200.npy')"
   ]
  },
  {
   "cell_type": "code",
   "execution_count": 2,
   "metadata": {},
   "outputs": [
    {
     "name": "stdout",
     "output_type": "stream",
     "text": [
      "(13600, 1000)\n",
      "(13600,)\n"
     ]
    }
   ],
   "source": [
    "print(X_boot.shape)\n",
    "print(y_boot.shape)"
   ]
  },
  {
   "cell_type": "code",
   "execution_count": 3,
   "metadata": {},
   "outputs": [],
   "source": [
    "X_boot = X_boot.tolist()\n",
    "X_boot = [lst[:] for lst in X_boot]\n",
    "final = []\n",
    "temp = []\n",
    "for lst in X_boot:\n",
    "    seq = ''.join(lst[1:-1])\n",
    "    temp.extend([lst[0],seq])\n",
    "    final.append(temp)\n",
    "    temp = []"
   ]
  },
  {
   "cell_type": "code",
   "execution_count": 4,
   "metadata": {},
   "outputs": [],
   "source": [
    "kmer_length = 5\n",
    "\n",
    "output_list = []\n",
    "for seq in final:\n",
    "    seq_id = seq[0]\n",
    "    seq_string = seq[1]\n",
    "    kmers = [seq_string[i:i+kmer_length] for i in range(len(seq_string)-kmer_length+1) if len(seq_string[i:i+kmer_length]) == kmer_length]\n",
    "    kmers.append('<END>')\n",
    "    output_list.append([seq_id] + kmers)"
   ]
  },
  {
   "cell_type": "code",
   "execution_count": 5,
   "metadata": {},
   "outputs": [
    {
     "data": {
      "text/plain": [
       "(13600, 2992)"
      ]
     },
     "execution_count": 5,
     "metadata": {},
     "output_type": "execute_result"
    }
   ],
   "source": [
    "np.array(output_list).shape"
   ]
  },
  {
   "cell_type": "code",
   "execution_count": 6,
   "metadata": {},
   "outputs": [],
   "source": [
    "X_boot = np.array(output_list)\n",
    "# np.save('X.boot.200.k5.npy',X_boot)\n",
    "# np.save('y.boot.200.k5.npy',y_boot)"
   ]
  },
  {
   "cell_type": "code",
   "execution_count": 7,
   "metadata": {},
   "outputs": [],
   "source": [
    "import numpy as np\n",
    "X_boot = np.load('X.boot.200.k5.npy')\n",
    "y_boot = np.load('y.boot.200.k5.npy')"
   ]
  },
  {
   "cell_type": "code",
   "execution_count": 7,
   "metadata": {},
   "outputs": [
    {
     "name": "stdout",
     "output_type": "stream",
     "text": [
      "(13600, 2992)\n",
      "(13600, 1000)\n"
     ]
    }
   ],
   "source": [
    "print(X_boot.shape)\n",
    "X_boot = X_boot[:,:1000]\n",
    "print(X_boot.shape)"
   ]
  },
  {
   "cell_type": "code",
   "execution_count": 8,
   "metadata": {},
   "outputs": [
    {
     "name": "stdout",
     "output_type": "stream",
     "text": [
      "Baseline Acc: 0.787\n"
     ]
    }
   ],
   "source": [
    "import pandas as pd\n",
    "baseline = pd.DataFrame(y_boot).value_counts()[0] / pd.DataFrame(y_boot).value_counts().sum()\n",
    "baseline = \"{:.3f}\".format(baseline)\n",
    "print(\"Baseline Acc:\",baseline)"
   ]
  },
  {
   "cell_type": "code",
   "execution_count": 9,
   "metadata": {},
   "outputs": [
    {
     "name": "stdout",
     "output_type": "stream",
     "text": [
      "{'GTATA', 'GGGGC', 'GAGAA', 'CGCGT', 'CTCAC', 'GAGGG', 'AACAC', 'GSM948714_e16-18hr_FAIRE_peaks', 'CAAAA', 'GTTTT', 'GSM2133768_Kc_Pita', 'ATATT', 'GSM1015408_CtMod_peaks', 'GSM1535970_CBP_NT_Rep1', 'CCCAC', 'CGGGG', 'NANAT', 'TCTGT', 'NANAC', 'CTCTC', 'CANAN', 'TGAGA', 'GSE101554_S2_Ez_ChIP_peaks', 'TCTAT', 'GSM2860390_GFPRNAi_GAFIP_R1_peaks', 'AAAAA', 'GSM948712_e2-4hr_FAIRE_peaks', 'NTGTG', 'TNTTT', 'AAATA', 'NGNGA', 'GSM2133767_Kc_Ibf2', 'GSM2860394_GFPRNAi_GAFIP_R2_peaks', 'CCCCG', 'TTCTC', 'GGGCG', 'GSM1535971_CBP_NT_Rep2', 'CCTCT', 'TCTTT', 'AAAAC', 'NGCGC', 'GSM2133769_Kc_ZIPIC', 'GSE37864_msl3', 'AGAGA', 'TCTCN', 'TCCCC', 'NNANA', 'TATNT', 'GGGGN', 'ATAAA', 'NGTGT', 'NTNTT', 'AAAAT', 'NNNNN', 'GSE101554_S2_Rpb3_ChIP_peaks', 'GNGNN', 'GNGCG', 'CNNNN', 'CAGAG', 'GGGAG', 'ATNTN', 'GSM1535980_CP190_NT_Rep2', 'CNCCC', 'GSM1535983_CTCF_NT_Rep2', 'CCCGC', 'CTCNC', 'GCGCC', 'TNTNN', 'NNGNG', 'NAGAG', 'GSE37864_mof', 'GSM2133770_Kc_Nup98', 'TTGTG', 'TCTCC', 'CACGC', 'GSE101554_S2_dRing_ChIP_peaks', 'CACAA', 'NGAGA', 'AGATA', 'AAAGA', 'CTATA', 'TATAG', 'CATAT', 'CGCAC', 'CNCNN', 'NCNCC', 'GAGTG', 'CGCNC', 'TGTCT', 'AGNGN', 'GNGAG', 'GTGGG', 'NGNNN', 'TANAN', 'CACCC', 'TATAN', 'GCGNG', 'GSM2202474_Gcn5_GFP_RNAi_macs14_peaks', 'CACAC', 'TGTGN', 'GTGTG', 'NCACA', 'GNGTG', 'GSM1535975_Chromator_NT_Rep1', 'GSE85191_Adelman_Dmel_S2_Cohesin_ChIP-seq_rep1and2', 'GSM2487551_H2Bub', 'GTGNG', 'CACNC', 'CTCTT', 'GSE101554_S2_GAF_ChIP_peaks', 'ACATA', 'CNCGC', 'GSE101554_S2_M1BP_ChIP_peaks', 'TTTTG', 'TCGCG', 'NAAAA', 'CCCNC', 'TTNTN', 'AAANA', 'TGCGC', 'ACAGA', 'NTATA', 'CTNTN', 'TTTTA', 'GSM1015406_CtSuHw_peaks', 'TATTT', 'NTCTC', 'GSM1535972_CBP_NT_Rep3', 'GTNTN', 'GSE37864_msl1', 'GCGAG', 'TCTCT', 'TATCT', 'ATATA', 'TCNCN', 'NTNTG', 'GCCCC', 'ACACA', 'GTCTC', 'TGNGN', 'TAGAG', 'CNCAC', 'TNTCT', 'ANAGA', 'AATAT', 'ATATN', 'GACAC', 'GCGGG', 'CTGTG', 'Adelman_Dmel_S2_H3K4me1_ChIP-seq_rep1and2', 'NNNNA', 'GNNNN', 'CTCTN', 'CACTC', 'TTTGT', 'TATAA', 'GSM2133763_Kc_H3', 'GGGGG', 'ATATC', 'GSM1318349_dTFIIIC220_1', 'ACANA', 'NGNGT', 'TGTNT', 'NNNNT', 'CGTGT', 'CGCGG', 'CACAG', 'GAGAC', 'ACTCT', 'GSM1535963_BEAF_NT_Rep2', 'Adelman_Dmel_S2_RNAPolII_ChIP-seq_control_rep1and2_normalized', 'GCGCA', 'ATGTG', 'GAGNG', 'NATAT', 'GSM2443787_Ash1-in-WT', 'GSM2860389_GFPRNAi_ClampIP_R1_peaks', 'TNNNN', 'GGGGA', 'ACACG', 'GSM2860401_GFPRNAi_ClampIP_R4_peaks', 'TGTGG', 'NNNAN', 'TTTTT', 'ACACT', 'NACAC', 'GTGTN', 'NGGGG', 'TNTGT', 'GTGCG', 'CTTTT', 'TTTTN', 'ANATA', 'TTTNT', 'GSM1535966_CapH2_NT_Rep1', 'GSM892323_L3mbt', 'AGAAA', 'TCTNT', 'AAAAG', 'GCACA', 'TACAC', 'ANNNN', 'GANAN', 'NNCNC', 'AGAGC', 'GSM1535967_CapH2_NT_Rep2', 'GTGTT', 'NTTTT', 'ACACN', 'GSM1535976_Chromator_NT_Rep2', 'AAAAN', 'GSM1535988_Fs1h-L_NT_Rep2', 'GSM2133766_Kc_Ibf1', 'GTGAG', 'GSM1318350_dTFIIIC220_2', 'GSM2487547_H3K9me3', 'CTCGC', 'AANAN', 'NANAG', 'GSE37864_msl2', 'TATGT', 'ACACC', 'TNTAT', 'TTTAT', 'ATANA', 'GSM948713_e6-8hr_FAIRE_peaks', 'GCGCT', 'Adelman_Dmel_S2_NELF-B_ChIP-seq_rep1and2', 'NCTCT', 'GSM2487550_H3_3', 'Adelman_Dmel_S2_H3K4me3_ChIP-seq_rep1and2', 'TGTAT', 'GSE101554_S2_HA_ChIP', 'GSM1318359_CP190', 'CGCGA', 'CGNGN', 'GAGAG', 'GNGGG', 'GCGCG', 'NGNGC', 'TATAC', 'GTGTC', 'NNNTN', 'ANANN', 'NANNN', 'NCGCG', 'GSM1318351_dTFIIIC220_3', 'CTCCC', 'NNTNT', 'NCCCC', 'GSM2202471_Gcn5_GFP_peaks', 'GSM2860393_GFPRNAi_ClampIP_R2_peaks', 'GSM2487549_H4K20me1', 'NTNNN', 'TCACA', 'AGAGT', 'GSE101365_idr-macs2-mock_ago2_mueller', 'AGTGT', 'ACGCG', 'NNNGN', 'NANAA', 'CCCCT', 'CCCCA', 'CCACA', 'TTATA', 'AGGGG', 'GGNGN', 'Adelman_Dmel_S2_H3K27ac_ChIP-seq_rep1and2', 'GCNCN', 'TATAT', 'GSM1318353_Barren_int', 'ATAGA', 'CCGCG', 'GGAGA', 'GSM2443786_Ash1-in-WT', 'GGGNG', 'CACAN', 'NTNTA', 'TCTCG', 'GGCGC', 'TTTTC', 'GGTGT', 'TGTGC', 'AGANA', 'NNNNC', 'GCTCT', 'ACCCC', 'CCCCN', 'GSM2133764_Kc_H3K27me3', 'ATATG', 'GTGTA', 'ACNCN', 'GGGGT', 'NGNGG', 'AGACA', 'NTNTC', 'CGAGA', 'GCGTG', 'NNNNG', 'GAGCG', 'AAGAG', 'CACAT', 'TAAAA', 'ATACA', 'ATTTT', 'CGCGC', 'CCCTC', 'GATAT', 'AGCGC', 'AAACA', 'CTCTG', 'GSM1535987_Fs1h-L_NT_Rep1', 'GAGAT', 'GCGCN', 'CGCTC', 'TGGGG', 'NCNNN', 'CGCCC', 'AGAGN', 'TGTGA', 'TTTCT', 'GGGTG', 'TGTTT', 'GAGAN', 'ACAAA', 'AGAGG', 'CCCCC', 'GSM1535985_DREF_NT_Rep2', 'TCTCA', 'CCNCN', 'CNCTC', 'NNNCN', 'NCNCA', 'NCNCT', 'GSM2860398_GFPRNAi_GAFIP_R3_peaks', 'ANACA', 'GSM1015410_Ct-CTCF_peaks', 'NCNCG', 'ATCTC', 'TGTGT', 'CGCGN', 'CTCTA', 'GAAAA', 'ANAAA'}\n"
     ]
    }
   ],
   "source": [
    "# obtaining keys to use in dictionary =\n",
    "import numpy as np\n",
    "\n",
    "def get_unique_items(nested_list):\n",
    "    unique_items = set()\n",
    "    for item in nested_list:\n",
    "        if isinstance(item, list):\n",
    "            unique_items.update(get_unique_items(item))\n",
    "        else:\n",
    "            unique_items.add(item)\n",
    "    return unique_items\n",
    "\n",
    "all_keys = get_unique_items(X_boot.tolist())\n",
    "print(all_keys)"
   ]
  },
  {
   "cell_type": "code",
   "execution_count": 10,
   "metadata": {},
   "outputs": [
    {
     "name": "stdout",
     "output_type": "stream",
     "text": [
      "Number of Items in Dictionary: 344\n"
     ]
    }
   ],
   "source": [
    "# constructing dictionary\n",
    "dna_dict = {}\n",
    "counter = 0 \n",
    "for i in all_keys:\n",
    "    dna_dict[i] = counter\n",
    "    counter+=1\n",
    "\n",
    "print(\"Number of Items in Dictionary:\",len(dna_dict))"
   ]
  },
  {
   "cell_type": "code",
   "execution_count": 11,
   "metadata": {},
   "outputs": [
    {
     "name": "stdout",
     "output_type": "stream",
     "text": [
      "Original Sequence: ['Adelman_Dmel_S2_H3K27ac_ChIP-seq_rep1and2', 'ACTCT', 'CTCTT', 'TCTTT', 'CTTTT']\n",
      "Updated Sequence: [267, 168, 108, 38, 190]\n"
     ]
    }
   ],
   "source": [
    "# replacing keys with values in the dataset\n",
    "print(\"Original Sequence:\",X_boot.tolist()[0][:5])\n",
    "\n",
    "def replace_values(nested_list, dictionary):\n",
    "    \"\"\"\n",
    "    Given a nested list, replaces every item with the corresponding value in a dictionary.\n",
    "    \"\"\"\n",
    "    if isinstance(nested_list, list):\n",
    "        return [replace_values(item, dictionary) for item in nested_list]\n",
    "    elif nested_list in dictionary:\n",
    "        return dictionary[nested_list]\n",
    "    else:\n",
    "        return nested_list\n",
    "\n",
    "seqs_out = replace_values(X_boot.tolist(),dna_dict)\n",
    "print(\"Updated Sequence:\",seqs_out[0][:5])"
   ]
  },
  {
   "cell_type": "code",
   "execution_count": 12,
   "metadata": {},
   "outputs": [],
   "source": [
    "X_boot = np.array(seqs_out)\n",
    "y_boot = np.array(y_boot)"
   ]
  },
  {
   "cell_type": "code",
   "execution_count": 65,
   "metadata": {},
   "outputs": [],
   "source": [
    "np.save('X.boot.200.k5.processed.npy',X_boot)\n",
    "np.save('y.boot.200.k5.processed.npy',y_boot)"
   ]
  },
  {
   "cell_type": "code",
   "execution_count": 13,
   "metadata": {},
   "outputs": [
    {
     "name": "stderr",
     "output_type": "stream",
     "text": [
      "2023-05-07 19:58:14.121958: I tensorflow/core/platform/cpu_feature_guard.cc:193] This TensorFlow binary is optimized with oneAPI Deep Neural Network Library (oneDNN) to use the following CPU instructions in performance-critical operations:  SSE4.1 SSE4.2\n",
      "To enable them in other operations, rebuild TensorFlow with the appropriate compiler flags.\n"
     ]
    }
   ],
   "source": [
    "import tensorflow as tf\n",
    "from sklearn.model_selection import train_test_split\n",
    "X_train,X_other,y_train,y_other = train_test_split(X_boot,y_boot,train_size=0.8,stratify=y_boot,random_state=1)\n",
    "X_val,X_test,y_val,y_test = train_test_split(X_other,y_other,train_size=0.5,stratify=y_other,random_state=1)"
   ]
  },
  {
   "cell_type": "code",
   "execution_count": 14,
   "metadata": {},
   "outputs": [
    {
     "name": "stderr",
     "output_type": "stream",
     "text": [
      "2023-05-07 19:58:37.670580: I tensorflow/core/platform/cpu_feature_guard.cc:193] This TensorFlow binary is optimized with oneAPI Deep Neural Network Library (oneDNN) to use the following CPU instructions in performance-critical operations:  SSE4.1 SSE4.2\n",
      "To enable them in other operations, rebuild TensorFlow with the appropriate compiler flags.\n"
     ]
    },
    {
     "name": "stdout",
     "output_type": "stream",
     "text": [
      "Epoch 1/5\n",
      "109/109 [==============================] - 473s 4s/step - loss: 2.8001 - acc: 0.6923 - val_loss: 5.3120 - val_acc: 0.2125\n",
      "Epoch 2/5\n",
      "109/109 [==============================] - 501s 5s/step - loss: 0.9927 - acc: 0.7377 - val_loss: 0.5952 - val_acc: 0.8191\n",
      "Epoch 3/5\n",
      "109/109 [==============================] - 534s 5s/step - loss: 0.5167 - acc: 0.7995 - val_loss: 0.8042 - val_acc: 0.8191\n",
      "Epoch 4/5\n",
      "109/109 [==============================] - 515s 5s/step - loss: 0.4529 - acc: 0.8271 - val_loss: 0.5407 - val_acc: 0.7838\n",
      "Epoch 5/5\n",
      "109/109 [==============================] - 520s 5s/step - loss: 0.3823 - acc: 0.8459 - val_loss: 0.7700 - val_acc: 0.8250\n"
     ]
    },
    {
     "data": {
      "text/plain": [
       "<keras.callbacks.History at 0x16b7ee9e0>"
      ]
     },
     "execution_count": 14,
     "metadata": {},
     "output_type": "execute_result"
    }
   ],
   "source": [
    "import numpy as np\n",
    "import tensorflow as tf\n",
    "from transformer import TransformerEncoder\n",
    "from tensorflow.keras.losses import BinaryCrossentropy\n",
    "from tensorflow.keras.optimizers import Adam\n",
    "\n",
    "# Testing model\n",
    "encoder = TransformerEncoder(\n",
    "    vocab_size=344,\n",
    "    emb_sz=64,\n",
    "    num_of_blocks=1,\n",
    "    num_of_atten_heads=4,\n",
    "    window_size=1000)\n",
    "\n",
    "encoder.compile(\n",
    "    optimizer = Adam(learning_rate=0.001),\n",
    "    loss = BinaryCrossentropy(from_logits=False),\n",
    "    metrics=['acc']\n",
    ")\n",
    "encoder.fit(\n",
    "    X_train,y_train,\n",
    "    epochs=5,batch_size=100,\n",
    "    validation_data=(X_val,y_val)\n",
    ")"
   ]
  },
  {
   "cell_type": "code",
   "execution_count": 18,
   "metadata": {},
   "outputs": [
    {
     "name": "stdout",
     "output_type": "stream",
     "text": [
      "14/14 [==============================] - 15s 1s/step - loss: 0.8366 - acc: 0.8154\n"
     ]
    },
    {
     "data": {
      "text/plain": [
       "[0.8366251587867737, 0.8154411911964417]"
      ]
     },
     "execution_count": 18,
     "metadata": {},
     "output_type": "execute_result"
    }
   ],
   "source": [
    "encoder.evaluate(\n",
    "    X_test,y_test,batch_size=100\n",
    ")"
   ]
  },
  {
   "cell_type": "code",
   "execution_count": null,
   "metadata": {},
   "outputs": [],
   "source": [
    "encoder.save(\n",
    "    'encoder.k5.R3.mod'\n",
    ")"
   ]
  },
  {
   "cell_type": "code",
   "execution_count": 18,
   "metadata": {},
   "outputs": [
    {
     "name": "stdout",
     "output_type": "stream",
     "text": [
      "Baseline Acc: 0.787\n"
     ]
    }
   ],
   "source": [
    "import pandas as pd\n",
    "baseline = pd.DataFrame(y_boot).value_counts()[0] / pd.DataFrame(y_boot).value_counts().sum()\n",
    "baseline = \"{:.3f}\".format(baseline)\n",
    "print(\"Baseline Acc:\",baseline)"
   ]
  },
  {
   "attachments": {},
   "cell_type": "markdown",
   "metadata": {},
   "source": [
    "## Transformer (K = 3): Preprocessing & constructing transformer"
   ]
  },
  {
   "cell_type": "code",
   "execution_count": 66,
   "metadata": {},
   "outputs": [],
   "source": [
    "# loading sample datasets\n",
    "import numpy as np\n",
    "X_boot = np.load('X.boot.200.npy')\n",
    "y_boot = np.load('y.boot.200.npy')"
   ]
  },
  {
   "cell_type": "code",
   "execution_count": 67,
   "metadata": {},
   "outputs": [
    {
     "name": "stdout",
     "output_type": "stream",
     "text": [
      "['Adelman_Dmel_S2_H3K27ac_ChIP-seq_rep1and2' 'ACT' 'CTT' 'TTC' 'TCA']\n",
      "[ True False  True  True False]\n"
     ]
    }
   ],
   "source": [
    "print(X_boot[0][0:5])\n",
    "print(y_boot[0:5])"
   ]
  },
  {
   "cell_type": "code",
   "execution_count": 68,
   "metadata": {},
   "outputs": [
    {
     "name": "stdout",
     "output_type": "stream",
     "text": [
      "Baseline Acc: 0.787\n"
     ]
    }
   ],
   "source": [
    "import pandas as pd\n",
    "baseline = pd.DataFrame(y_boot).value_counts()[0] / pd.DataFrame(y_boot).value_counts().sum()\n",
    "baseline = \"{:.3f}\".format(baseline)\n",
    "print(\"Baseline Acc:\",baseline)"
   ]
  },
  {
   "cell_type": "code",
   "execution_count": 69,
   "metadata": {},
   "outputs": [
    {
     "name": "stdout",
     "output_type": "stream",
     "text": [
      "{'AAG', 'TGT', 'GSM1015406_CtSuHw_peaks', 'TCT', 'CTN', 'GSM1535970_CBP_NT_Rep1', 'GSM948712_e2-4hr_FAIRE_peaks', 'GGN', 'CCG', 'GSM1535976_Chromator_NT_Rep2', 'GTT', 'GSE101554_S2_HA_ChIP', 'GSM1535966_CapH2_NT_Rep1', 'GSE101554_S2_Rpb3_ChIP_peaks', 'GSE101554_S2_dRing_ChIP_peaks', 'NGA', 'GSM2133769_Kc_ZIPIC', 'Adelman_Dmel_S2_H3K27ac_ChIP-seq_rep1and2', 'AGA', 'CAC', 'NTT', 'AGG', 'GSM1535963_BEAF_NT_Rep2', 'TTA', 'GSE37864_msl1', 'AGN', 'ATA', 'GAC', 'GSM2487550_H3_3', 'GSM1535987_Fs1h-L_NT_Rep1', 'CTG', 'GTC', 'GSM2133770_Kc_Nup98', 'CTC', 'GCA', 'CGC', 'NCT', 'GSM2443787_Ash1-in-WT', 'AGT', '<END>', 'TTN', 'ACA', 'CTA', 'CAA', 'GSM2202474_Gcn5_GFP_RNAi_macs14_peaks', 'CGA', 'NCA', 'GSM892323_L3mbt', 'TCC', 'GCN', 'GSM2860389_GFPRNAi_ClampIP_R1_peaks', 'NNN', 'GTG', 'GAA', 'TGN', 'TTC', 'ACT', 'GAG', 'CCA', 'GGC', 'Adelman_Dmel_S2_RNAPolII_ChIP-seq_control_rep1and2_normalized', 'GSM2860398_GFPRNAi_GAFIP_R3_peaks', 'GSM2133764_Kc_H3K27me3', 'GAT', 'GCG', 'GSE101554_S2_Ez_ChIP_peaks', 'GSM1535971_CBP_NT_Rep2', 'NCG', 'NAG', 'GCT', 'GSM2860393_GFPRNAi_ClampIP_R2_peaks', 'TAC', 'TAA', 'GSM2133763_Kc_H3', 'ACN', 'CAT', 'GSM1318359_CP190', 'GSM2202471_Gcn5_GFP_peaks', 'GSM1535967_CapH2_NT_Rep2', 'CGN', 'ATC', 'ATT', 'GSM2443786_Ash1-in-WT', 'GSM1535985_DREF_NT_Rep2', 'GSE37864_msl2', 'TCG', 'GSM2860390_GFPRNAi_GAFIP_R1_peaks', 'Adelman_Dmel_S2_NELF-B_ChIP-seq_rep1and2', 'CAG', 'CCC', 'NCC', 'TCN', 'Adelman_Dmel_S2_H3K4me1_ChIP-seq_rep1and2', 'ATG', 'ACG', 'NTC', 'TCA', 'CNN', 'NNC', 'AAN', 'CTT', 'GSM1318353_Barren_int', 'NGT', 'GSE101554_S2_GAF_ChIP_peaks', 'GNN', 'GSM1015408_CtMod_peaks', 'NTG', 'NGG', 'GSM1535983_CTCF_NT_Rep2', 'GSM2860401_GFPRNAi_ClampIP_R4_peaks', 'GSM1015410_Ct-CTCF_peaks', 'GSM2133768_Kc_Pita', 'NAT', 'TAT', 'GSM2133766_Kc_Ibf1', 'GSM2487547_H3K9me3', 'GSM948714_e16-18hr_FAIRE_peaks', 'GGG', 'NTA', 'AGC', 'ANN', 'GSM2133767_Kc_Ibf2', 'TAG', 'GSM1535975_Chromator_NT_Rep1', 'GCC', 'GSM2860394_GFPRNAi_GAFIP_R2_peaks', 'CCN', 'NAA', 'GSE101365_idr-macs2-mock_ago2_mueller', 'GTA', 'GSM948713_e6-8hr_FAIRE_peaks', 'TGC', 'GSE37864_msl3', 'GSM1318350_dTFIIIC220_2', 'GSE101554_S2_M1BP_ChIP_peaks', 'GSE37864_mof', 'AAC', 'GSM1535988_Fs1h-L_NT_Rep2', 'CGT', 'GSM1535980_CP190_NT_Rep2', 'GSM1535972_CBP_NT_Rep3', 'Adelman_Dmel_S2_H3K4me3_ChIP-seq_rep1and2', 'GGT', 'CCT', 'ACC', 'NNG', 'AAT', 'GSE85191_Adelman_Dmel_S2_Cohesin_ChIP-seq_rep1and2', 'TTT', 'TNN', 'CAN', 'TAN', 'GTN', 'NAN', 'GSM2487549_H4K20me1', 'GSM2487551_H2Bub', 'GSM1318349_dTFIIIC220_1', 'CGG', 'AAA', 'TGG', 'TTG', 'NAC', 'NNT', 'GSM1318351_dTFIIIC220_3', 'GAN', 'TGA', 'NGC', 'ATN', 'NNA', 'GGA'}\n"
     ]
    }
   ],
   "source": [
    "# obtaining keys to use in dictionary =\n",
    "import numpy as np\n",
    "\n",
    "def get_unique_items(nested_list):\n",
    "    unique_items = set()\n",
    "    for item in nested_list:\n",
    "        if isinstance(item, list):\n",
    "            unique_items.update(get_unique_items(item))\n",
    "        else:\n",
    "            unique_items.add(item)\n",
    "    return unique_items\n",
    "\n",
    "all_keys = get_unique_items(X_boot.tolist())\n",
    "print(all_keys)"
   ]
  },
  {
   "cell_type": "code",
   "execution_count": 70,
   "metadata": {},
   "outputs": [
    {
     "name": "stdout",
     "output_type": "stream",
     "text": [
      "Number of Items in Dictionary: 170\n"
     ]
    }
   ],
   "source": [
    "# constructing dictionary\n",
    "dna_dict = {}\n",
    "counter = 0 \n",
    "for i in all_keys:\n",
    "    dna_dict[i] = counter\n",
    "    counter+=1\n",
    "\n",
    "print(\"Number of Items in Dictionary:\",len(dna_dict))"
   ]
  },
  {
   "cell_type": "code",
   "execution_count": 71,
   "metadata": {},
   "outputs": [
    {
     "name": "stdout",
     "output_type": "stream",
     "text": [
      "Original Sequence: ['Adelman_Dmel_S2_H3K27ac_ChIP-seq_rep1and2', 'ACT', 'CTT', 'TTC', 'TCA']\n",
      "Updated Sequence: [17, 56, 100, 55, 96]\n"
     ]
    }
   ],
   "source": [
    "# replacing keys with values in the dataset\n",
    "print(\"Original Sequence:\",X_boot.tolist()[0][:5])\n",
    "\n",
    "def replace_values(nested_list, dictionary):\n",
    "    \"\"\"\n",
    "    Given a nested list, replaces every item with the corresponding value in a dictionary.\n",
    "    \"\"\"\n",
    "    if isinstance(nested_list, list):\n",
    "        return [replace_values(item, dictionary) for item in nested_list]\n",
    "    elif nested_list in dictionary:\n",
    "        return dictionary[nested_list]\n",
    "    else:\n",
    "        return nested_list\n",
    "\n",
    "seqs_out = replace_values(X_boot.tolist(),dna_dict)\n",
    "print(\"Updated Sequence:\",seqs_out[0][:5])"
   ]
  },
  {
   "cell_type": "code",
   "execution_count": 72,
   "metadata": {},
   "outputs": [],
   "source": [
    "X_boot = np.array(seqs_out)\n",
    "y_boot = np.array(y_boot)"
   ]
  },
  {
   "cell_type": "code",
   "execution_count": 89,
   "metadata": {},
   "outputs": [],
   "source": [
    "import tensorflow as tf\n",
    "from sklearn.model_selection import train_test_split\n",
    "X_train,X_other,y_train,y_other = train_test_split(X_boot,y_boot,train_size=0.80,stratify=y_boot,random_state=3)\n",
    "X_val,X_test,y_val,y_test = train_test_split(X_other,y_other,train_size=0.5,stratify=y_other,random_state=3)"
   ]
  },
  {
   "cell_type": "code",
   "execution_count": 90,
   "metadata": {},
   "outputs": [
    {
     "name": "stdout",
     "output_type": "stream",
     "text": [
      "Epoch 1/5\n",
      "109/109 [==============================] - 609s 6s/step - loss: 3.4250 - acc: 0.6723 - val_loss: 2.0165 - val_acc: 0.7868\n",
      "Epoch 2/5\n",
      "109/109 [==============================] - 637s 6s/step - loss: 0.7781 - acc: 0.7296 - val_loss: 0.4964 - val_acc: 0.8316\n",
      "Epoch 3/5\n",
      "109/109 [==============================] - 506s 5s/step - loss: 0.8821 - acc: 0.7480 - val_loss: 1.0380 - val_acc: 0.5022\n",
      "Epoch 4/5\n",
      "109/109 [==============================] - 517s 5s/step - loss: 0.5049 - acc: 0.8074 - val_loss: 0.6003 - val_acc: 0.6890\n",
      "Epoch 5/5\n",
      "109/109 [==============================] - 575s 5s/step - loss: 0.5064 - acc: 0.8131 - val_loss: 0.5665 - val_acc: 0.8294\n"
     ]
    },
    {
     "data": {
      "text/plain": [
       "<keras.callbacks.History at 0x118c8a5c0>"
      ]
     },
     "execution_count": 90,
     "metadata": {},
     "output_type": "execute_result"
    }
   ],
   "source": [
    "import numpy as np\n",
    "import tensorflow as tf\n",
    "from transformer import TransformerEncoder\n",
    "from tensorflow.keras.losses import BinaryCrossentropy\n",
    "from tensorflow.keras.optimizers import Adam\n",
    "\n",
    "\n",
    "# Testing model\n",
    "encoder = TransformerEncoder(\n",
    "    vocab_size=170,\n",
    "    emb_sz=64,\n",
    "    num_of_blocks=1,\n",
    "    num_of_atten_heads=4)\n",
    "\n",
    "encoder.compile(\n",
    "    optimizer = Adam(learning_rate=0.001),\n",
    "    loss = BinaryCrossentropy(from_logits=False),\n",
    "    metrics=['acc']\n",
    ")\n",
    "encoder.fit(\n",
    "    X_train,y_train,\n",
    "    epochs=5,batch_size=100,\n",
    "    validation_data=(X_val,y_val)\n",
    ")"
   ]
  },
  {
   "cell_type": "code",
   "execution_count": 91,
   "metadata": {},
   "outputs": [
    {
     "name": "stdout",
     "output_type": "stream",
     "text": [
      "14/14 [==============================] - 27s 2s/step - loss: 0.5679 - acc: 0.8331\n"
     ]
    },
    {
     "data": {
      "text/plain": [
       "[0.5678842067718506, 0.833088219165802]"
      ]
     },
     "execution_count": 91,
     "metadata": {},
     "output_type": "execute_result"
    }
   ],
   "source": [
    "encoder.evaluate(\n",
    "    X_test,y_test,batch_size=100\n",
    ")"
   ]
  },
  {
   "cell_type": "code",
   "execution_count": 92,
   "metadata": {},
   "outputs": [
    {
     "name": "stderr",
     "output_type": "stream",
     "text": [
      "WARNING:absl:Found untraced functions such as _update_step_xla, embedding_6_layer_call_fn, embedding_6_layer_call_and_return_conditional_losses, multi_head_attention_6_layer_call_fn, multi_head_attention_6_layer_call_and_return_conditional_losses while saving (showing 5 of 23). These functions will not be directly callable after loading.\n"
     ]
    },
    {
     "name": "stdout",
     "output_type": "stream",
     "text": [
      "INFO:tensorflow:Assets written to: encoder.k3.R3.mod/assets\n"
     ]
    },
    {
     "name": "stderr",
     "output_type": "stream",
     "text": [
      "INFO:tensorflow:Assets written to: encoder.k3.R3.mod/assets\n",
      "WARNING:absl:<transformer.MultiHeadAttention object at 0x18a96b070> has the same name 'MultiHeadAttention' as a built-in Keras object. Consider renaming <class 'transformer.MultiHeadAttention'> to avoid naming conflicts when loading with `tf.keras.models.load_model`. If renaming is not possible, pass the object in the `custom_objects` parameter of the load function.\n"
     ]
    }
   ],
   "source": [
    "encoder.save('encoder.k3.R3.mod',save_format=\"tf\")"
   ]
  },
  {
   "cell_type": "code",
   "execution_count": 35,
   "metadata": {},
   "outputs": [
    {
     "name": "stdout",
     "output_type": "stream",
     "text": [
      "Baseline Acc: 0.7711924023918396\n"
     ]
    }
   ],
   "source": [
    "import pandas as pd\n",
    "\n",
    "out = pd.DataFrame(y)\n",
    "baseline = out.value_counts()[0] / out.value_counts().sum()\n",
    "print(\"Baseline Acc:\",baseline)"
   ]
  },
  {
   "cell_type": "code",
   "execution_count": 19,
   "metadata": {},
   "outputs": [
    {
     "name": "stdout",
     "output_type": "stream",
     "text": [
      "Num GPUs Available:  0\n"
     ]
    }
   ],
   "source": [
    "print(\"Num GPUs Available: \", len(tf.config.list_physical_devices('GPU')))"
   ]
  }
 ],
 "metadata": {
  "kernelspec": {
   "display_name": "csci1470",
   "language": "python",
   "name": "python3"
  },
  "language_info": {
   "codemirror_mode": {
    "name": "ipython",
    "version": 3
   },
   "file_extension": ".py",
   "mimetype": "text/x-python",
   "name": "python",
   "nbconvert_exporter": "python",
   "pygments_lexer": "ipython3",
   "version": "3.10.10"
  },
  "orig_nbformat": 4
 },
 "nbformat": 4,
 "nbformat_minor": 2
}
